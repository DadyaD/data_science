{
 "cells": [
  {
   "cell_type": "markdown",
   "id": "109483ab",
   "metadata": {},
   "source": [
    "# Проект по работе с моделями машинного обучения"
   ]
  },
  {
   "cell_type": "markdown",
   "id": "02ca4281",
   "metadata": {},
   "source": [
    "# Описание"
   ]
  },
  {
   "cell_type": "markdown",
   "id": "0c8dfb2f",
   "metadata": {},
   "source": [
    "Представлен набор данных показаний с датчиков с оценкой риска отказа оборудования.\n",
    "\n",
    "Набор данных состоит из следующих объектов:\n",
    "\n",
    "Температура (°C): Непрерывные данные, представляющие температуру в критических точках машины. Более высокие температуры могут указывать на потенциальные проблемы из-за перегрева.\n",
    "\n",
    "Вибрация (Гц): Частота вибраций машины. Аномальные вибрации могут быть признаком механического несоосности, дисбаланса или износа.\n",
    "\n",
    "Потребление мощности (кВт): Уровни потребления мощности машины. Скачки потребления мощности могут указывать на повышенную нагрузку или потенциальные механические проблемы.\n",
    "\n",
    "Влажность (%): влажность окружающей среды вокруг машины. Высокий уровень влажности может повлиять на производительность машины и со временем привести к ее поломке.\n",
    "\n",
    "Тип машины: Категориальные данные, указывающие тип машины (например, «Сверлильный станок», «Токарный станок», «Фрезерный станок»). Различные типы машин могут иметь уникальные модели отказов.\n",
    "\n",
    "Целевая переменная:\n",
    "\n",
    "Риск отказа: двоичная метка, где 0 указывает на нормальную работу, а 1 указывает на то, что машина подвержена риску отказа.\n",
    "\n",
    "Необходимо найти наиболее результативную модель прогнозирования риска отказа оборудования."
   ]
  },
  {
   "cell_type": "markdown",
   "id": "394fbd55",
   "metadata": {},
   "source": [
    "# План проекта :\n",
    "## 1.Обзор данных\n",
    "### 1.1Загрузка библиотек\n",
    "### 1.2 Загрузка данных\n",
    "### 1.3 Просмотр данных\n",
    "## 2. Предобработка данных\n",
    "### 2.1 "
   ]
  },
  {
   "cell_type": "markdown",
   "id": "3958dd66",
   "metadata": {},
   "source": [
    "## 1.Обзор данных"
   ]
  },
  {
   "cell_type": "markdown",
   "id": "31629808",
   "metadata": {},
   "source": [
    "### 1.1 Загрузка библиотек"
   ]
  },
  {
   "cell_type": "code",
   "execution_count": null,
   "id": "bbe4a4de",
   "metadata": {},
   "outputs": [],
   "source": [
    "pip install catboost"
   ]
  },
  {
   "cell_type": "code",
   "execution_count": 3,
   "id": "3f206fbb",
   "metadata": {},
   "outputs": [
    {
     "name": "stdout",
     "output_type": "stream",
     "text": [
      "Requirement already satisfied: lightgbm in /Users/ekaterinakasina/opt/anaconda3/lib/python3.9/site-packages (3.3.3)\n",
      "Requirement already satisfied: numpy in /Users/ekaterinakasina/opt/anaconda3/lib/python3.9/site-packages (from lightgbm) (1.20.3)\n",
      "Requirement already satisfied: scikit-learn!=0.22.0 in /Users/ekaterinakasina/opt/anaconda3/lib/python3.9/site-packages (from lightgbm) (1.6.1)\n",
      "Requirement already satisfied: wheel in /Users/ekaterinakasina/opt/anaconda3/lib/python3.9/site-packages (from lightgbm) (0.37.0)\n",
      "Requirement already satisfied: scipy in /Users/ekaterinakasina/opt/anaconda3/lib/python3.9/site-packages (from lightgbm) (1.7.1)\n",
      "Requirement already satisfied: joblib>=1.2.0 in /Users/ekaterinakasina/opt/anaconda3/lib/python3.9/site-packages (from scikit-learn!=0.22.0->lightgbm) (1.5.0)\n",
      "Requirement already satisfied: threadpoolctl>=3.1.0 in /Users/ekaterinakasina/opt/anaconda3/lib/python3.9/site-packages (from scikit-learn!=0.22.0->lightgbm) (3.6.0)\n",
      "Note: you may need to restart the kernel to use updated packages.\n"
     ]
    }
   ],
   "source": [
    "pip install lightgbm "
   ]
  },
  {
   "cell_type": "code",
   "execution_count": 5,
   "id": "69cbfecf",
   "metadata": {},
   "outputs": [
    {
     "name": "stdout",
     "output_type": "stream",
     "text": [
      "Found existing installation: scikit-learn 1.6.1\n",
      "Uninstalling scikit-learn-1.6.1:\n",
      "  Successfully uninstalled scikit-learn-1.6.1\n",
      "Collecting scikit-learn==1.5.2\n",
      "  Downloading scikit_learn-1.5.2-cp39-cp39-macosx_10_9_x86_64.whl (12.1 MB)\n",
      "\u001b[K     |████████████████████████████████| 12.1 MB 1.2 MB/s eta 0:00:01\n",
      "\u001b[?25hRequirement already satisfied: joblib>=1.2.0 in /Users/ekaterinakasina/opt/anaconda3/lib/python3.9/site-packages (from scikit-learn==1.5.2) (1.5.0)\n",
      "Requirement already satisfied: threadpoolctl>=3.1.0 in /Users/ekaterinakasina/opt/anaconda3/lib/python3.9/site-packages (from scikit-learn==1.5.2) (3.6.0)\n",
      "Requirement already satisfied: scipy>=1.6.0 in /Users/ekaterinakasina/opt/anaconda3/lib/python3.9/site-packages (from scikit-learn==1.5.2) (1.7.1)\n",
      "Requirement already satisfied: numpy>=1.19.5 in /Users/ekaterinakasina/opt/anaconda3/lib/python3.9/site-packages (from scikit-learn==1.5.2) (1.20.3)\n",
      "Installing collected packages: scikit-learn\n",
      "Successfully installed scikit-learn-1.5.2\n"
     ]
    }
   ],
   "source": [
    "!pip uninstall -y scikit-learn\n",
    "!pip install scikit-learn==1.5.2"
   ]
  },
  {
   "cell_type": "code",
   "execution_count": 6,
   "id": "677cfc86",
   "metadata": {},
   "outputs": [],
   "source": [
    "import pandas as pd\n",
    "import matplotlib.pyplot as plt\n",
    "import numpy as np\n",
    "from sklearn.model_selection import train_test_split \n",
    "from sklearn.model_selection import GridSearchCV\n",
    "from sklearn.tree import DecisionTreeClassifier\n",
    "from sklearn.linear_model import LogisticRegression \n",
    "from sklearn.ensemble import RandomForestClassifier\n",
    "from sklearn.dummy import DummyClassifier \n",
    "from sklearn.preprocessing import OrdinalEncoder \n",
    "from sklearn.preprocessing import StandardScaler\n",
    "from sklearn.metrics import accuracy_score\n",
    "from sklearn.metrics import mean_squared_error\n",
    "from sklearn.metrics import f1_score\n",
    "from sklearn.metrics import roc_auc_score\n",
    "from sklearn.metrics import roc_curve\n",
    "from sklearn.metrics import recall_score\n",
    "from sklearn.utils import shuffle\n",
    "from catboost import Pool, CatBoostClassifier\n",
    "import lightgbm as lgb\n",
    "from lightgbm import LGBMClassifier\n",
    "from catboost import cv"
   ]
  },
  {
   "cell_type": "markdown",
   "id": "499b67b7",
   "metadata": {},
   "source": [
    "### 1. 2 Загрузка данных"
   ]
  },
  {
   "cell_type": "code",
   "execution_count": 7,
   "id": "804684e6",
   "metadata": {},
   "outputs": [],
   "source": [
    "dt= pd.read_csv('/Users/ekaterinakasina/Documents/GitHub/data_science/machine_failure_dataset.csv')"
   ]
  },
  {
   "cell_type": "markdown",
   "id": "042cd002",
   "metadata": {},
   "source": [
    "### 1.3 Просмотр данных"
   ]
  },
  {
   "cell_type": "markdown",
   "id": "c2397d96",
   "metadata": {},
   "source": [
    "Проверим первые несколько строк"
   ]
  },
  {
   "cell_type": "code",
   "execution_count": 8,
   "id": "ddaa2793",
   "metadata": {},
   "outputs": [
    {
     "data": {
      "text/html": [
       "<div>\n",
       "<style scoped>\n",
       "    .dataframe tbody tr th:only-of-type {\n",
       "        vertical-align: middle;\n",
       "    }\n",
       "\n",
       "    .dataframe tbody tr th {\n",
       "        vertical-align: top;\n",
       "    }\n",
       "\n",
       "    .dataframe thead th {\n",
       "        text-align: right;\n",
       "    }\n",
       "</style>\n",
       "<table border=\"1\" class=\"dataframe\">\n",
       "  <thead>\n",
       "    <tr style=\"text-align: right;\">\n",
       "      <th></th>\n",
       "      <th>Temperature</th>\n",
       "      <th>Vibration</th>\n",
       "      <th>Power_Usage</th>\n",
       "      <th>Humidity</th>\n",
       "      <th>Machine_Type</th>\n",
       "      <th>Failure_Risk</th>\n",
       "    </tr>\n",
       "  </thead>\n",
       "  <tbody>\n",
       "    <tr>\n",
       "      <th>0</th>\n",
       "      <td>74.967142</td>\n",
       "      <td>56.996777</td>\n",
       "      <td>8.649643</td>\n",
       "      <td>20.460962</td>\n",
       "      <td>Mill</td>\n",
       "      <td>1</td>\n",
       "    </tr>\n",
       "    <tr>\n",
       "      <th>1</th>\n",
       "      <td>68.617357</td>\n",
       "      <td>54.623168</td>\n",
       "      <td>9.710963</td>\n",
       "      <td>25.698075</td>\n",
       "      <td>Lathe</td>\n",
       "      <td>0</td>\n",
       "    </tr>\n",
       "    <tr>\n",
       "      <th>2</th>\n",
       "      <td>76.476885</td>\n",
       "      <td>50.298152</td>\n",
       "      <td>8.415160</td>\n",
       "      <td>27.931972</td>\n",
       "      <td>Drill</td>\n",
       "      <td>1</td>\n",
       "    </tr>\n",
       "    <tr>\n",
       "      <th>3</th>\n",
       "      <td>85.230299</td>\n",
       "      <td>46.765316</td>\n",
       "      <td>9.384077</td>\n",
       "      <td>39.438438</td>\n",
       "      <td>Lathe</td>\n",
       "      <td>1</td>\n",
       "    </tr>\n",
       "    <tr>\n",
       "      <th>4</th>\n",
       "      <td>67.658466</td>\n",
       "      <td>53.491117</td>\n",
       "      <td>6.212771</td>\n",
       "      <td>32.782766</td>\n",
       "      <td>Drill</td>\n",
       "      <td>1</td>\n",
       "    </tr>\n",
       "  </tbody>\n",
       "</table>\n",
       "</div>"
      ],
      "text/plain": [
       "   Temperature  Vibration  Power_Usage   Humidity Machine_Type  Failure_Risk\n",
       "0    74.967142  56.996777     8.649643  20.460962         Mill             1\n",
       "1    68.617357  54.623168     9.710963  25.698075        Lathe             0\n",
       "2    76.476885  50.298152     8.415160  27.931972        Drill             1\n",
       "3    85.230299  46.765316     9.384077  39.438438        Lathe             1\n",
       "4    67.658466  53.491117     6.212771  32.782766        Drill             1"
      ]
     },
     "execution_count": 8,
     "metadata": {},
     "output_type": "execute_result"
    }
   ],
   "source": [
    "dt.head(5)"
   ]
  },
  {
   "cell_type": "markdown",
   "id": "305c5d38",
   "metadata": {},
   "source": [
    "На первый взгляд все впорядке. Но в такой точности в данных нет необходимости. Стоит подумать до округления данных до одной десятой, а то и до целых чисел."
   ]
  },
  {
   "cell_type": "markdown",
   "id": "da776bfe",
   "metadata": {},
   "source": [
    "Посмотрим на информацию по пропускам и типам объектов данных"
   ]
  },
  {
   "cell_type": "code",
   "execution_count": 9,
   "id": "1050392f",
   "metadata": {},
   "outputs": [
    {
     "name": "stdout",
     "output_type": "stream",
     "text": [
      "<class 'pandas.core.frame.DataFrame'>\n",
      "RangeIndex: 1000 entries, 0 to 999\n",
      "Data columns (total 6 columns):\n",
      " #   Column        Non-Null Count  Dtype  \n",
      "---  ------        --------------  -----  \n",
      " 0   Temperature   1000 non-null   float64\n",
      " 1   Vibration     1000 non-null   float64\n",
      " 2   Power_Usage   1000 non-null   float64\n",
      " 3   Humidity      1000 non-null   float64\n",
      " 4   Machine_Type  1000 non-null   object \n",
      " 5   Failure_Risk  1000 non-null   int64  \n",
      "dtypes: float64(4), int64(1), object(1)\n",
      "memory usage: 47.0+ KB\n"
     ]
    }
   ],
   "source": [
    "dt.info()"
   ]
  },
  {
   "cell_type": "markdown",
   "id": "a434f87e",
   "metadata": {},
   "source": [
    "Пропусков нет, но нужно проверить на наличие NaN и посмотреть на наличие дубликатов"
   ]
  },
  {
   "cell_type": "code",
   "execution_count": 10,
   "id": "87ce6f1e",
   "metadata": {},
   "outputs": [
    {
     "data": {
      "text/html": [
       "<div>\n",
       "<style scoped>\n",
       "    .dataframe tbody tr th:only-of-type {\n",
       "        vertical-align: middle;\n",
       "    }\n",
       "\n",
       "    .dataframe tbody tr th {\n",
       "        vertical-align: top;\n",
       "    }\n",
       "\n",
       "    .dataframe thead th {\n",
       "        text-align: right;\n",
       "    }\n",
       "</style>\n",
       "<table border=\"1\" class=\"dataframe\">\n",
       "  <thead>\n",
       "    <tr style=\"text-align: right;\">\n",
       "      <th></th>\n",
       "      <th>Temperature</th>\n",
       "      <th>Vibration</th>\n",
       "      <th>Power_Usage</th>\n",
       "      <th>Humidity</th>\n",
       "      <th>Failure_Risk</th>\n",
       "    </tr>\n",
       "  </thead>\n",
       "  <tbody>\n",
       "    <tr>\n",
       "      <th>count</th>\n",
       "      <td>1000.000000</td>\n",
       "      <td>1000.000000</td>\n",
       "      <td>1000.000000</td>\n",
       "      <td>1000.000000</td>\n",
       "      <td>1000.000000</td>\n",
       "    </tr>\n",
       "    <tr>\n",
       "      <th>mean</th>\n",
       "      <td>70.193321</td>\n",
       "      <td>50.354181</td>\n",
       "      <td>10.011668</td>\n",
       "      <td>29.906404</td>\n",
       "      <td>0.300000</td>\n",
       "    </tr>\n",
       "    <tr>\n",
       "      <th>std</th>\n",
       "      <td>9.792159</td>\n",
       "      <td>4.987272</td>\n",
       "      <td>1.966909</td>\n",
       "      <td>5.135663</td>\n",
       "      <td>0.458487</td>\n",
       "    </tr>\n",
       "    <tr>\n",
       "      <th>min</th>\n",
       "      <td>37.587327</td>\n",
       "      <td>35.298057</td>\n",
       "      <td>3.960976</td>\n",
       "      <td>15.352757</td>\n",
       "      <td>0.000000</td>\n",
       "    </tr>\n",
       "    <tr>\n",
       "      <th>25%</th>\n",
       "      <td>63.524097</td>\n",
       "      <td>46.968792</td>\n",
       "      <td>8.704001</td>\n",
       "      <td>26.312898</td>\n",
       "      <td>0.000000</td>\n",
       "    </tr>\n",
       "    <tr>\n",
       "      <th>50%</th>\n",
       "      <td>70.253006</td>\n",
       "      <td>50.315386</td>\n",
       "      <td>9.999498</td>\n",
       "      <td>30.000923</td>\n",
       "      <td>0.000000</td>\n",
       "    </tr>\n",
       "    <tr>\n",
       "      <th>75%</th>\n",
       "      <td>76.479439</td>\n",
       "      <td>53.644411</td>\n",
       "      <td>11.321831</td>\n",
       "      <td>33.334727</td>\n",
       "      <td>1.000000</td>\n",
       "    </tr>\n",
       "    <tr>\n",
       "      <th>max</th>\n",
       "      <td>108.527315</td>\n",
       "      <td>65.965538</td>\n",
       "      <td>17.852475</td>\n",
       "      <td>46.215465</td>\n",
       "      <td>1.000000</td>\n",
       "    </tr>\n",
       "  </tbody>\n",
       "</table>\n",
       "</div>"
      ],
      "text/plain": [
       "       Temperature    Vibration  Power_Usage     Humidity  Failure_Risk\n",
       "count  1000.000000  1000.000000  1000.000000  1000.000000   1000.000000\n",
       "mean     70.193321    50.354181    10.011668    29.906404      0.300000\n",
       "std       9.792159     4.987272     1.966909     5.135663      0.458487\n",
       "min      37.587327    35.298057     3.960976    15.352757      0.000000\n",
       "25%      63.524097    46.968792     8.704001    26.312898      0.000000\n",
       "50%      70.253006    50.315386     9.999498    30.000923      0.000000\n",
       "75%      76.479439    53.644411    11.321831    33.334727      1.000000\n",
       "max     108.527315    65.965538    17.852475    46.215465      1.000000"
      ]
     },
     "execution_count": 10,
     "metadata": {},
     "output_type": "execute_result"
    }
   ],
   "source": [
    "dt.describe()"
   ]
  },
  {
   "cell_type": "markdown",
   "id": "b7402fd3",
   "metadata": {},
   "source": [
    "Видно, что распределение по целевому признаку не в равновесии смещено к работе без риска отказа(что логично). Отправная точка для показателя модели не 0.5. Медиана практически совпадает со средним, значит выбросы не смещают распределение. \n",
    "Для более наглядного отображения распределения данных и поиска выбосов используем boxplot"
   ]
  },
  {
   "cell_type": "code",
   "execution_count": 11,
   "id": "c78c2f0a",
   "metadata": {},
   "outputs": [
    {
     "data": {
      "text/plain": [
       "Temperature     float64\n",
       "Vibration       float64\n",
       "Power_Usage     float64\n",
       "Humidity        float64\n",
       "Machine_Type     object\n",
       "Failure_Risk      int64\n",
       "dtype: object"
      ]
     },
     "execution_count": 11,
     "metadata": {},
     "output_type": "execute_result"
    }
   ],
   "source": [
    "dt.dtypes"
   ]
  },
  {
   "cell_type": "code",
   "execution_count": 12,
   "id": "38f1daf0",
   "metadata": {},
   "outputs": [],
   "source": [
    "series = dt.columns.tolist()"
   ]
  },
  {
   "cell_type": "code",
   "execution_count": 13,
   "id": "a619ead2",
   "metadata": {},
   "outputs": [
    {
     "data": {
      "text/plain": [
       "['Temperature', 'Vibration', 'Power_Usage', 'Humidity']"
      ]
     },
     "execution_count": 13,
     "metadata": {},
     "output_type": "execute_result"
    }
   ],
   "source": [
    "series=series[0:4]\n",
    "series"
   ]
  },
  {
   "cell_type": "code",
   "execution_count": 14,
   "id": "9f1204ef",
   "metadata": {},
   "outputs": [
    {
     "data": {
      "image/png": "[encoded data removed]",
      "text/plain": [
       "<Figure size 432x288 with 1 Axes>"
      ]
     },
     "metadata": {
      "needs_background": "light"
     },
     "output_type": "display_data"
    },
    {
     "data": {
      "image/png": "[encoded data removed]",
      "text/plain": [
       "<Figure size 432x288 with 1 Axes>"
      ]
     },
     "metadata": {
      "needs_background": "light"
     },
     "output_type": "display_data"
    },
    {
     "data": {
      "image/png": "[encoded data removed]",
      "text/plain": [
       "<Figure size 432x288 with 1 Axes>"
      ]
     },
     "metadata": {
      "needs_background": "light"
     },
     "output_type": "display_data"
    },
    {
     "data": {
      "image/png": "[encoded data removed]",
      "text/plain": [
       "<Figure size 432x288 with 1 Axes>"
      ]
     },
     "metadata": {
      "needs_background": "light"
     },
     "output_type": "display_data"
    }
   ],
   "source": [
    "for i in series:\n",
    "    plt.boxplot(dt[i])\n",
    "    plt.xlabel(i)#Подпись для оси х\n",
    "    plt.show()\n",
    "\n"
   ]
  },
  {
   "cell_type": "markdown",
   "id": "2ad97871",
   "metadata": {},
   "source": [
    "Видно, что выбросов не так много, посмотрим на корреляцию признаков, перед тем как делать выводы"
   ]
  },
  {
   "cell_type": "code",
   "execution_count": 15,
   "id": "a1f80f5a",
   "metadata": {},
   "outputs": [
    {
     "data": {
      "text/html": [
       "<div>\n",
       "<style scoped>\n",
       "    .dataframe tbody tr th:only-of-type {\n",
       "        vertical-align: middle;\n",
       "    }\n",
       "\n",
       "    .dataframe tbody tr th {\n",
       "        vertical-align: top;\n",
       "    }\n",
       "\n",
       "    .dataframe thead th {\n",
       "        text-align: right;\n",
       "    }\n",
       "</style>\n",
       "<table border=\"1\" class=\"dataframe\">\n",
       "  <thead>\n",
       "    <tr style=\"text-align: right;\">\n",
       "      <th></th>\n",
       "      <th>Temperature</th>\n",
       "      <th>Vibration</th>\n",
       "      <th>Power_Usage</th>\n",
       "      <th>Humidity</th>\n",
       "      <th>Failure_Risk</th>\n",
       "    </tr>\n",
       "  </thead>\n",
       "  <tbody>\n",
       "    <tr>\n",
       "      <th>Temperature</th>\n",
       "      <td>1.000000</td>\n",
       "      <td>-0.040400</td>\n",
       "      <td>0.022129</td>\n",
       "      <td>-0.013321</td>\n",
       "      <td>0.029938</td>\n",
       "    </tr>\n",
       "    <tr>\n",
       "      <th>Vibration</th>\n",
       "      <td>-0.040400</td>\n",
       "      <td>1.000000</td>\n",
       "      <td>-0.011199</td>\n",
       "      <td>-0.054698</td>\n",
       "      <td>-0.001727</td>\n",
       "    </tr>\n",
       "    <tr>\n",
       "      <th>Power_Usage</th>\n",
       "      <td>0.022129</td>\n",
       "      <td>-0.011199</td>\n",
       "      <td>1.000000</td>\n",
       "      <td>0.021586</td>\n",
       "      <td>0.020971</td>\n",
       "    </tr>\n",
       "    <tr>\n",
       "      <th>Humidity</th>\n",
       "      <td>-0.013321</td>\n",
       "      <td>-0.054698</td>\n",
       "      <td>0.021586</td>\n",
       "      <td>1.000000</td>\n",
       "      <td>-0.018007</td>\n",
       "    </tr>\n",
       "    <tr>\n",
       "      <th>Failure_Risk</th>\n",
       "      <td>0.029938</td>\n",
       "      <td>-0.001727</td>\n",
       "      <td>0.020971</td>\n",
       "      <td>-0.018007</td>\n",
       "      <td>1.000000</td>\n",
       "    </tr>\n",
       "  </tbody>\n",
       "</table>\n",
       "</div>"
      ],
      "text/plain": [
       "              Temperature  Vibration  Power_Usage  Humidity  Failure_Risk\n",
       "Temperature      1.000000  -0.040400     0.022129 -0.013321      0.029938\n",
       "Vibration       -0.040400   1.000000    -0.011199 -0.054698     -0.001727\n",
       "Power_Usage      0.022129  -0.011199     1.000000  0.021586      0.020971\n",
       "Humidity        -0.013321  -0.054698     0.021586  1.000000     -0.018007\n",
       "Failure_Risk     0.029938  -0.001727     0.020971 -0.018007      1.000000"
      ]
     },
     "execution_count": 15,
     "metadata": {},
     "output_type": "execute_result"
    }
   ],
   "source": [
    "dt.corr()"
   ]
  },
  {
   "cell_type": "code",
   "execution_count": 16,
   "id": "0dfeb484",
   "metadata": {},
   "outputs": [
    {
     "data": {
      "image/png": "[encoded data removed]",
      "text/plain": [
       "<Figure size 1152x1152 with 25 Axes>"
      ]
     },
     "metadata": {
      "needs_background": "light"
     },
     "output_type": "display_data"
    }
   ],
   "source": [
    "pd.plotting.scatter_matrix(dt,alpha=0.5,figsize=(16,16))\n",
    "plt.show()"
   ]
  },
  {
   "cell_type": "markdown",
   "id": "368cace8",
   "metadata": {},
   "source": [
    "Проверим целевой признак на сбалансированность"
   ]
  },
  {
   "cell_type": "code",
   "execution_count": 17,
   "id": "ff20c472",
   "metadata": {},
   "outputs": [
    {
     "name": "stdout",
     "output_type": "stream",
     "text": [
      "0    0.7\n",
      "1    0.3\n",
      "Name: Failure_Risk, dtype: float64\n"
     ]
    },
    {
     "data": {
      "image/png": "[encoded data removed]",
      "text/plain": [
       "<Figure size 432x288 with 1 Axes>"
      ]
     },
     "metadata": {},
     "output_type": "display_data"
    }
   ],
   "source": [
    "print(dt['Failure_Risk'].value_counts(normalize=True))\n",
    "dt['Failure_Risk'].value_counts(normalize=True).plot(kind=\"pie\", title = \"баланс целевого признака\");"
   ]
  },
  {
   "cell_type": "markdown",
   "id": "5e32465d",
   "metadata": {},
   "source": [
    "#### Вывод "
   ]
  },
  {
   "cell_type": "markdown",
   "id": "7ca41551",
   "metadata": {},
   "source": [
    "По коэфициентам корреляции видно, что зависимостей нет. Гистограммы показывают на нормальное распределение, отбрасывать выбросы смысла нет. Дисбаланс целевого признака"
   ]
  },
  {
   "cell_type": "code",
   "execution_count": 18,
   "id": "d7e4268d",
   "metadata": {},
   "outputs": [
    {
     "data": {
      "text/html": [
       "<div>\n",
       "<style scoped>\n",
       "    .dataframe tbody tr th:only-of-type {\n",
       "        vertical-align: middle;\n",
       "    }\n",
       "\n",
       "    .dataframe tbody tr th {\n",
       "        vertical-align: top;\n",
       "    }\n",
       "\n",
       "    .dataframe thead th {\n",
       "        text-align: right;\n",
       "    }\n",
       "</style>\n",
       "<table border=\"1\" class=\"dataframe\">\n",
       "  <thead>\n",
       "    <tr style=\"text-align: right;\">\n",
       "      <th></th>\n",
       "      <th>Temperature</th>\n",
       "      <th>Vibration</th>\n",
       "      <th>Power_Usage</th>\n",
       "      <th>Humidity</th>\n",
       "      <th>Machine_Type</th>\n",
       "      <th>Failure_Risk</th>\n",
       "    </tr>\n",
       "  </thead>\n",
       "  <tbody>\n",
       "    <tr>\n",
       "      <th>0</th>\n",
       "      <td>74.967142</td>\n",
       "      <td>56.996777</td>\n",
       "      <td>8.649643</td>\n",
       "      <td>20.460962</td>\n",
       "      <td>Mill</td>\n",
       "      <td>1</td>\n",
       "    </tr>\n",
       "    <tr>\n",
       "      <th>1</th>\n",
       "      <td>68.617357</td>\n",
       "      <td>54.623168</td>\n",
       "      <td>9.710963</td>\n",
       "      <td>25.698075</td>\n",
       "      <td>Lathe</td>\n",
       "      <td>0</td>\n",
       "    </tr>\n",
       "    <tr>\n",
       "      <th>2</th>\n",
       "      <td>76.476885</td>\n",
       "      <td>50.298152</td>\n",
       "      <td>8.415160</td>\n",
       "      <td>27.931972</td>\n",
       "      <td>Drill</td>\n",
       "      <td>1</td>\n",
       "    </tr>\n",
       "    <tr>\n",
       "      <th>3</th>\n",
       "      <td>85.230299</td>\n",
       "      <td>46.765316</td>\n",
       "      <td>9.384077</td>\n",
       "      <td>39.438438</td>\n",
       "      <td>Lathe</td>\n",
       "      <td>1</td>\n",
       "    </tr>\n",
       "    <tr>\n",
       "      <th>4</th>\n",
       "      <td>67.658466</td>\n",
       "      <td>53.491117</td>\n",
       "      <td>6.212771</td>\n",
       "      <td>32.782766</td>\n",
       "      <td>Drill</td>\n",
       "      <td>1</td>\n",
       "    </tr>\n",
       "  </tbody>\n",
       "</table>\n",
       "</div>"
      ],
      "text/plain": [
       "   Temperature  Vibration  Power_Usage   Humidity Machine_Type  Failure_Risk\n",
       "0    74.967142  56.996777     8.649643  20.460962         Mill             1\n",
       "1    68.617357  54.623168     9.710963  25.698075        Lathe             0\n",
       "2    76.476885  50.298152     8.415160  27.931972        Drill             1\n",
       "3    85.230299  46.765316     9.384077  39.438438        Lathe             1\n",
       "4    67.658466  53.491117     6.212771  32.782766        Drill             1"
      ]
     },
     "execution_count": 18,
     "metadata": {},
     "output_type": "execute_result"
    }
   ],
   "source": [
    "dt.head()"
   ]
  },
  {
   "cell_type": "code",
   "execution_count": 19,
   "id": "2b927030",
   "metadata": {},
   "outputs": [
    {
     "data": {
      "text/html": [
       "<div>\n",
       "<style scoped>\n",
       "    .dataframe tbody tr th:only-of-type {\n",
       "        vertical-align: middle;\n",
       "    }\n",
       "\n",
       "    .dataframe tbody tr th {\n",
       "        vertical-align: top;\n",
       "    }\n",
       "\n",
       "    .dataframe thead tr th {\n",
       "        text-align: left;\n",
       "    }\n",
       "\n",
       "    .dataframe thead tr:last-of-type th {\n",
       "        text-align: right;\n",
       "    }\n",
       "</style>\n",
       "<table border=\"1\" class=\"dataframe\">\n",
       "  <thead>\n",
       "    <tr>\n",
       "      <th></th>\n",
       "      <th>sum</th>\n",
       "      <th>mean</th>\n",
       "    </tr>\n",
       "    <tr>\n",
       "      <th></th>\n",
       "      <th>Failure_Risk</th>\n",
       "      <th>Failure_Risk</th>\n",
       "    </tr>\n",
       "    <tr>\n",
       "      <th>Machine_Type</th>\n",
       "      <th></th>\n",
       "      <th></th>\n",
       "    </tr>\n",
       "  </thead>\n",
       "  <tbody>\n",
       "    <tr>\n",
       "      <th>Drill</th>\n",
       "      <td>104</td>\n",
       "      <td>0.311377</td>\n",
       "    </tr>\n",
       "    <tr>\n",
       "      <th>Lathe</th>\n",
       "      <td>105</td>\n",
       "      <td>0.310651</td>\n",
       "    </tr>\n",
       "    <tr>\n",
       "      <th>Mill</th>\n",
       "      <td>91</td>\n",
       "      <td>0.277439</td>\n",
       "    </tr>\n",
       "  </tbody>\n",
       "</table>\n",
       "</div>"
      ],
      "text/plain": [
       "                      sum         mean\n",
       "             Failure_Risk Failure_Risk\n",
       "Machine_Type                          \n",
       "Drill                 104     0.311377\n",
       "Lathe                 105     0.310651\n",
       "Mill                   91     0.277439"
      ]
     },
     "execution_count": 19,
     "metadata": {},
     "output_type": "execute_result"
    }
   ],
   "source": [
    "dt.pivot_table(index='Machine_Type',\n",
    "               values='Failure_Risk',\n",
    "              aggfunc=['sum','mean'])"
   ]
  },
  {
   "cell_type": "code",
   "execution_count": null,
   "id": "fc33f1b9",
   "metadata": {},
   "outputs": [],
   "source": []
  },
  {
   "cell_type": "code",
   "execution_count": null,
   "id": "f2d0908e",
   "metadata": {},
   "outputs": [],
   "source": []
  },
  {
   "cell_type": "code",
   "execution_count": null,
   "id": "c4205961",
   "metadata": {},
   "outputs": [],
   "source": []
  },
  {
   "cell_type": "code",
   "execution_count": null,
   "id": "4d6e5cc2",
   "metadata": {},
   "outputs": [],
   "source": []
  },
  {
   "cell_type": "markdown",
   "id": "1d9893eb",
   "metadata": {},
   "source": [
    "## 2. Предобработка данных"
   ]
  },
  {
   "cell_type": "code",
   "execution_count": 20,
   "id": "f771074b",
   "metadata": {},
   "outputs": [],
   "source": [
    "df=dt.copy()"
   ]
  },
  {
   "cell_type": "markdown",
   "id": "e3d5b531",
   "metadata": {},
   "source": [
    "### 2.1 Приведение к \"змеиному\" стилю"
   ]
  },
  {
   "cell_type": "code",
   "execution_count": 21,
   "id": "a7c08327",
   "metadata": {},
   "outputs": [],
   "source": [
    "df = df.rename(\n",
    "columns={\n",
    "'Temperature': 'temperature',\n",
    "'Vibration': 'vibration',\n",
    "'Power_Usage': 'power_usage',\n",
    "'Humidity':'humidity',\n",
    "'Failure_Risk':'failure_risk',\n",
    "'Machine_Type': 'machine_type'}\n",
    ")"
   ]
  },
  {
   "cell_type": "markdown",
   "id": "87918c0e",
   "metadata": {},
   "source": [
    "### 2.1 Проверка на дубликаты"
   ]
  },
  {
   "cell_type": "code",
   "execution_count": 22,
   "id": "111d95d7",
   "metadata": {},
   "outputs": [
    {
     "data": {
      "text/plain": [
       "0"
      ]
     },
     "execution_count": 22,
     "metadata": {},
     "output_type": "execute_result"
    }
   ],
   "source": [
    "df.duplicated().sum()"
   ]
  },
  {
   "cell_type": "markdown",
   "id": "13e80eaf",
   "metadata": {},
   "source": [
    "### 2.2 Проверка на пропуски"
   ]
  },
  {
   "cell_type": "markdown",
   "id": "bbc8968f",
   "metadata": {},
   "source": [
    "Проверим на уникальные значения в столбце с категорией машин"
   ]
  },
  {
   "cell_type": "code",
   "execution_count": 23,
   "id": "451f2d3b",
   "metadata": {},
   "outputs": [
    {
     "data": {
      "text/plain": [
       "array(['Mill', 'Lathe', 'Drill'], dtype=object)"
      ]
     },
     "execution_count": 23,
     "metadata": {},
     "output_type": "execute_result"
    }
   ],
   "source": [
    "df['machine_type'].unique()"
   ]
  },
  {
   "cell_type": "markdown",
   "id": "8d274a09",
   "metadata": {},
   "source": [
    " Отсутствует None, или другие заглушки"
   ]
  },
  {
   "cell_type": "markdown",
   "id": "5e8122f7",
   "metadata": {},
   "source": [
    "### 2.3 Преобразование данных"
   ]
  },
  {
   "cell_type": "markdown",
   "id": "0d5bcb41",
   "metadata": {},
   "source": [
    "Округлим данные в столбцах до 0,1"
   ]
  },
  {
   "cell_type": "code",
   "execution_count": 24,
   "id": "0b0ee9b9",
   "metadata": {},
   "outputs": [],
   "source": [
    "series=[word.lower() for word in series]"
   ]
  },
  {
   "cell_type": "code",
   "execution_count": 25,
   "id": "1595847f",
   "metadata": {},
   "outputs": [],
   "source": [
    "df[series]=df[series].round(1)"
   ]
  },
  {
   "cell_type": "markdown",
   "id": "f9f029c0",
   "metadata": {},
   "source": [
    "#### Категоризируем числовые данные"
   ]
  },
  {
   "cell_type": "markdown",
   "id": "584fc9a2",
   "metadata": {},
   "source": [
    "Категоризируем данные по температуре, вибрации, влажности, мощности на основании данных полученных с boxplot. Сразу зададим числовые категории чтобы не кодировать их в дальнейшем"
   ]
  },
  {
   "cell_type": "code",
   "execution_count": 26,
   "id": "4afcc053",
   "metadata": {},
   "outputs": [],
   "source": [
    "# не разобрался пока с функцией поквантилям, чтобы облегчить код\n",
    "#q = df['Temperature'].quantile(0.75)\n",
    "#df['Temperature']<=df['Temperature'].quantile(0.75)\n",
    "#pd.to_numeric(df[\"score\"], errors=\"coerce\").quantile(q=0.33)\n",
    "##def Power_Usage_group(power_usage):\n",
    "    #if power_usage <= pd.to_numeric(power_usage, errors=\"coerce\").quantile(q=0.25):\n",
    "        #return '1'\n",
    "    #if power_usage <= pd.to_numeric(power_usage, errors=\"coerce\").quantile(q=0.75):\n",
    "        #return '2'\n",
    "    #if power_usage <= pd.to_numeric(power_usage, errors=\"coerce\").quantile(q=0.995:\n",
    "        #return '3'\n",
    "    #return '4'\n",
    "##                                                                           \n",
    "#df['Power_Usage_group'] = df['Power_Usage'].apply(Power_Usage_group)"
   ]
  },
  {
   "cell_type": "markdown",
   "id": "2ed864e6",
   "metadata": {},
   "source": [
    "разобьем данные по температуре: менее 63 градусов - низкая, от 63 до 76 средняя(2), от 76 до 95 повышенная(3),выше 95 градусов - высокая(4). "
   ]
  },
  {
   "cell_type": "code",
   "execution_count": 27,
   "id": "4fe3756f",
   "metadata": {},
   "outputs": [],
   "source": [
    "def temperature_group(temperature):\n",
    "    if temperature <= 63:\n",
    "        return '1'\n",
    "    if temperature <= 76:\n",
    "        return '2'\n",
    "    if temperature <= 95:\n",
    "        return '3'\n",
    "    return '4'\n",
    "df['temperature_group'] = df['temperature'].apply(temperature_group)"
   ]
  },
  {
   "cell_type": "markdown",
   "id": "94d5fac0",
   "metadata": {},
   "source": [
    "разобьем данные по вибрации: меннее 46 дБ - низкая(1), от 46 до 53 дБ - средняя(2), от 53 до 63 дБ - повышенная(3), выше 63 дБ - высокая(4)"
   ]
  },
  {
   "cell_type": "code",
   "execution_count": 28,
   "id": "9bc6ac3e",
   "metadata": {},
   "outputs": [],
   "source": [
    "def vibration_group(vibration):\n",
    "    if vibration <= 46:\n",
    "        return '1'\n",
    "    if vibration <= 53:\n",
    "        return '2'\n",
    "    if vibration <= 63:\n",
    "        return '3'\n",
    "    return '4'\n",
    "df['vibration_group'] = df['vibration'].apply(vibration_group)"
   ]
  },
  {
   "cell_type": "markdown",
   "id": "3d62e48a",
   "metadata": {},
   "source": [
    "разобьем данные по мощности: меннее 8.7 дБ - низкая(1), от 8.7 до 11.3 дБ - средняя(2), от 11.3 до 15.3 дБ - повышенная(3), выше 15.3 дБ - высокая(4)"
   ]
  },
  {
   "cell_type": "code",
   "execution_count": 29,
   "id": "8475eee8",
   "metadata": {},
   "outputs": [],
   "source": [
    "def power_usage_group(power_usage):\n",
    "    if power_usage <= 8.7:\n",
    "        return '1'\n",
    "    if power_usage <= 11.3:\n",
    "        return '2'\n",
    "    if power_usage <= 15.3:\n",
    "        return '3'\n",
    "    return '4'\n",
    "df['power_usage_group'] = df['power_usage'].apply(power_usage_group)"
   ]
  },
  {
   "cell_type": "markdown",
   "id": "1f60023d",
   "metadata": {},
   "source": [
    "разобьем данные по влажности: меннее 26 дБ - низкая(1), от 26 до 33 дБ - средняя(2), от 33 до 42 дБ - повышенная(3), выше 42 дБ - высокая(4)"
   ]
  },
  {
   "cell_type": "code",
   "execution_count": 30,
   "id": "43d83f2f",
   "metadata": {},
   "outputs": [],
   "source": [
    "def humidity_group(humidity):\n",
    "    if humidity <= 26:\n",
    "        return '1'\n",
    "    if humidity <= 33:\n",
    "        return '2'\n",
    "    if humidity <= 42:\n",
    "        return '3'\n",
    "    return '4'\n",
    "df['humidity_group'] = df['humidity'].apply(humidity_group)"
   ]
  },
  {
   "cell_type": "code",
   "execution_count": 31,
   "id": "7ba8894a",
   "metadata": {},
   "outputs": [
    {
     "data": {
      "text/html": [
       "<div>\n",
       "<style scoped>\n",
       "    .dataframe tbody tr th:only-of-type {\n",
       "        vertical-align: middle;\n",
       "    }\n",
       "\n",
       "    .dataframe tbody tr th {\n",
       "        vertical-align: top;\n",
       "    }\n",
       "\n",
       "    .dataframe thead th {\n",
       "        text-align: right;\n",
       "    }\n",
       "</style>\n",
       "<table border=\"1\" class=\"dataframe\">\n",
       "  <thead>\n",
       "    <tr style=\"text-align: right;\">\n",
       "      <th></th>\n",
       "      <th>temperature</th>\n",
       "      <th>vibration</th>\n",
       "      <th>power_usage</th>\n",
       "      <th>humidity</th>\n",
       "      <th>machine_type</th>\n",
       "      <th>failure_risk</th>\n",
       "      <th>temperature_group</th>\n",
       "      <th>vibration_group</th>\n",
       "      <th>power_usage_group</th>\n",
       "      <th>humidity_group</th>\n",
       "    </tr>\n",
       "  </thead>\n",
       "  <tbody>\n",
       "    <tr>\n",
       "      <th>0</th>\n",
       "      <td>75.0</td>\n",
       "      <td>57.0</td>\n",
       "      <td>8.6</td>\n",
       "      <td>20.5</td>\n",
       "      <td>Mill</td>\n",
       "      <td>1</td>\n",
       "      <td>2</td>\n",
       "      <td>3</td>\n",
       "      <td>1</td>\n",
       "      <td>1</td>\n",
       "    </tr>\n",
       "    <tr>\n",
       "      <th>1</th>\n",
       "      <td>68.6</td>\n",
       "      <td>54.6</td>\n",
       "      <td>9.7</td>\n",
       "      <td>25.7</td>\n",
       "      <td>Lathe</td>\n",
       "      <td>0</td>\n",
       "      <td>2</td>\n",
       "      <td>3</td>\n",
       "      <td>2</td>\n",
       "      <td>1</td>\n",
       "    </tr>\n",
       "    <tr>\n",
       "      <th>2</th>\n",
       "      <td>76.5</td>\n",
       "      <td>50.3</td>\n",
       "      <td>8.4</td>\n",
       "      <td>27.9</td>\n",
       "      <td>Drill</td>\n",
       "      <td>1</td>\n",
       "      <td>3</td>\n",
       "      <td>2</td>\n",
       "      <td>1</td>\n",
       "      <td>2</td>\n",
       "    </tr>\n",
       "    <tr>\n",
       "      <th>3</th>\n",
       "      <td>85.2</td>\n",
       "      <td>46.8</td>\n",
       "      <td>9.4</td>\n",
       "      <td>39.4</td>\n",
       "      <td>Lathe</td>\n",
       "      <td>1</td>\n",
       "      <td>3</td>\n",
       "      <td>2</td>\n",
       "      <td>2</td>\n",
       "      <td>3</td>\n",
       "    </tr>\n",
       "    <tr>\n",
       "      <th>4</th>\n",
       "      <td>67.7</td>\n",
       "      <td>53.5</td>\n",
       "      <td>6.2</td>\n",
       "      <td>32.8</td>\n",
       "      <td>Drill</td>\n",
       "      <td>1</td>\n",
       "      <td>2</td>\n",
       "      <td>3</td>\n",
       "      <td>1</td>\n",
       "      <td>2</td>\n",
       "    </tr>\n",
       "    <tr>\n",
       "      <th>5</th>\n",
       "      <td>67.7</td>\n",
       "      <td>52.0</td>\n",
       "      <td>10.4</td>\n",
       "      <td>23.3</td>\n",
       "      <td>Drill</td>\n",
       "      <td>0</td>\n",
       "      <td>2</td>\n",
       "      <td>2</td>\n",
       "      <td>2</td>\n",
       "      <td>1</td>\n",
       "    </tr>\n",
       "    <tr>\n",
       "      <th>6</th>\n",
       "      <td>85.8</td>\n",
       "      <td>54.5</td>\n",
       "      <td>10.0</td>\n",
       "      <td>32.4</td>\n",
       "      <td>Lathe</td>\n",
       "      <td>0</td>\n",
       "      <td>3</td>\n",
       "      <td>3</td>\n",
       "      <td>2</td>\n",
       "      <td>2</td>\n",
       "    </tr>\n",
       "    <tr>\n",
       "      <th>7</th>\n",
       "      <td>77.7</td>\n",
       "      <td>53.2</td>\n",
       "      <td>8.4</td>\n",
       "      <td>22.3</td>\n",
       "      <td>Mill</td>\n",
       "      <td>1</td>\n",
       "      <td>3</td>\n",
       "      <td>3</td>\n",
       "      <td>1</td>\n",
       "      <td>1</td>\n",
       "    </tr>\n",
       "    <tr>\n",
       "      <th>8</th>\n",
       "      <td>65.3</td>\n",
       "      <td>55.2</td>\n",
       "      <td>11.3</td>\n",
       "      <td>35.4</td>\n",
       "      <td>Drill</td>\n",
       "      <td>0</td>\n",
       "      <td>2</td>\n",
       "      <td>3</td>\n",
       "      <td>2</td>\n",
       "      <td>3</td>\n",
       "    </tr>\n",
       "    <tr>\n",
       "      <th>9</th>\n",
       "      <td>75.4</td>\n",
       "      <td>47.3</td>\n",
       "      <td>11.9</td>\n",
       "      <td>27.6</td>\n",
       "      <td>Mill</td>\n",
       "      <td>1</td>\n",
       "      <td>2</td>\n",
       "      <td>2</td>\n",
       "      <td>3</td>\n",
       "      <td>2</td>\n",
       "    </tr>\n",
       "  </tbody>\n",
       "</table>\n",
       "</div>"
      ],
      "text/plain": [
       "   temperature  vibration  power_usage  humidity machine_type  failure_risk  \\\n",
       "0         75.0       57.0          8.6      20.5         Mill             1   \n",
       "1         68.6       54.6          9.7      25.7        Lathe             0   \n",
       "2         76.5       50.3          8.4      27.9        Drill             1   \n",
       "3         85.2       46.8          9.4      39.4        Lathe             1   \n",
       "4         67.7       53.5          6.2      32.8        Drill             1   \n",
       "5         67.7       52.0         10.4      23.3        Drill             0   \n",
       "6         85.8       54.5         10.0      32.4        Lathe             0   \n",
       "7         77.7       53.2          8.4      22.3         Mill             1   \n",
       "8         65.3       55.2         11.3      35.4        Drill             0   \n",
       "9         75.4       47.3         11.9      27.6         Mill             1   \n",
       "\n",
       "  temperature_group vibration_group power_usage_group humidity_group  \n",
       "0                 2               3                 1              1  \n",
       "1                 2               3                 2              1  \n",
       "2                 3               2                 1              2  \n",
       "3                 3               2                 2              3  \n",
       "4                 2               3                 1              2  \n",
       "5                 2               2                 2              1  \n",
       "6                 3               3                 2              2  \n",
       "7                 3               3                 1              1  \n",
       "8                 2               3                 2              3  \n",
       "9                 2               2                 3              2  "
      ]
     },
     "execution_count": 31,
     "metadata": {},
     "output_type": "execute_result"
    }
   ],
   "source": [
    "df.head(10)"
   ]
  },
  {
   "cell_type": "markdown",
   "id": "71688f61",
   "metadata": {},
   "source": [
    "Преобразуем названия столбцов в числовое значение, воспользуемся OrdinalEncoder"
   ]
  },
  {
   "cell_type": "code",
   "execution_count": 32,
   "id": "21d09cbd",
   "metadata": {
    "scrolled": true
   },
   "outputs": [],
   "source": [
    "encoder = OrdinalEncoder() \n",
    "encoder.fit(df[['machine_type']]) \n",
    "df_ord = pd.DataFrame(encoder.fit_transform(df), \n",
    "                                                      columns=df.columns)"
   ]
  },
  {
   "cell_type": "code",
   "execution_count": 33,
   "id": "4a7563e5",
   "metadata": {},
   "outputs": [
    {
     "data": {
      "text/html": [
       "<div>\n",
       "<style scoped>\n",
       "    .dataframe tbody tr th:only-of-type {\n",
       "        vertical-align: middle;\n",
       "    }\n",
       "\n",
       "    .dataframe tbody tr th {\n",
       "        vertical-align: top;\n",
       "    }\n",
       "\n",
       "    .dataframe thead th {\n",
       "        text-align: right;\n",
       "    }\n",
       "</style>\n",
       "<table border=\"1\" class=\"dataframe\">\n",
       "  <thead>\n",
       "    <tr style=\"text-align: right;\">\n",
       "      <th></th>\n",
       "      <th>temperature</th>\n",
       "      <th>vibration</th>\n",
       "      <th>power_usage</th>\n",
       "      <th>humidity</th>\n",
       "      <th>machine_type</th>\n",
       "      <th>failure_risk</th>\n",
       "      <th>temperature_group</th>\n",
       "      <th>vibration_group</th>\n",
       "      <th>power_usage_group</th>\n",
       "      <th>humidity_group</th>\n",
       "    </tr>\n",
       "  </thead>\n",
       "  <tbody>\n",
       "    <tr>\n",
       "      <th>0</th>\n",
       "      <td>228.0</td>\n",
       "      <td>180.0</td>\n",
       "      <td>37.0</td>\n",
       "      <td>22.0</td>\n",
       "      <td>2.0</td>\n",
       "      <td>1.0</td>\n",
       "      <td>1.0</td>\n",
       "      <td>2.0</td>\n",
       "      <td>0.0</td>\n",
       "      <td>0.0</td>\n",
       "    </tr>\n",
       "    <tr>\n",
       "      <th>1</th>\n",
       "      <td>167.0</td>\n",
       "      <td>156.0</td>\n",
       "      <td>48.0</td>\n",
       "      <td>72.0</td>\n",
       "      <td>1.0</td>\n",
       "      <td>0.0</td>\n",
       "      <td>1.0</td>\n",
       "      <td>2.0</td>\n",
       "      <td>1.0</td>\n",
       "      <td>0.0</td>\n",
       "    </tr>\n",
       "    <tr>\n",
       "      <th>2</th>\n",
       "      <td>243.0</td>\n",
       "      <td>113.0</td>\n",
       "      <td>35.0</td>\n",
       "      <td>94.0</td>\n",
       "      <td>0.0</td>\n",
       "      <td>1.0</td>\n",
       "      <td>2.0</td>\n",
       "      <td>1.0</td>\n",
       "      <td>0.0</td>\n",
       "      <td>1.0</td>\n",
       "    </tr>\n",
       "    <tr>\n",
       "      <th>3</th>\n",
       "      <td>315.0</td>\n",
       "      <td>78.0</td>\n",
       "      <td>45.0</td>\n",
       "      <td>207.0</td>\n",
       "      <td>1.0</td>\n",
       "      <td>1.0</td>\n",
       "      <td>2.0</td>\n",
       "      <td>1.0</td>\n",
       "      <td>1.0</td>\n",
       "      <td>2.0</td>\n",
       "    </tr>\n",
       "    <tr>\n",
       "      <th>4</th>\n",
       "      <td>158.0</td>\n",
       "      <td>145.0</td>\n",
       "      <td>13.0</td>\n",
       "      <td>143.0</td>\n",
       "      <td>0.0</td>\n",
       "      <td>1.0</td>\n",
       "      <td>1.0</td>\n",
       "      <td>2.0</td>\n",
       "      <td>0.0</td>\n",
       "      <td>1.0</td>\n",
       "    </tr>\n",
       "  </tbody>\n",
       "</table>\n",
       "</div>"
      ],
      "text/plain": [
       "   temperature  vibration  power_usage  humidity  machine_type  failure_risk  \\\n",
       "0        228.0      180.0         37.0      22.0           2.0           1.0   \n",
       "1        167.0      156.0         48.0      72.0           1.0           0.0   \n",
       "2        243.0      113.0         35.0      94.0           0.0           1.0   \n",
       "3        315.0       78.0         45.0     207.0           1.0           1.0   \n",
       "4        158.0      145.0         13.0     143.0           0.0           1.0   \n",
       "\n",
       "   temperature_group  vibration_group  power_usage_group  humidity_group  \n",
       "0                1.0              2.0                0.0             0.0  \n",
       "1                1.0              2.0                1.0             0.0  \n",
       "2                2.0              1.0                0.0             1.0  \n",
       "3                2.0              1.0                1.0             2.0  \n",
       "4                1.0              2.0                0.0             1.0  "
      ]
     },
     "execution_count": 33,
     "metadata": {},
     "output_type": "execute_result"
    }
   ],
   "source": [
    "df_ord.head()"
   ]
  },
  {
   "cell_type": "markdown",
   "id": "41670f37",
   "metadata": {},
   "source": [
    "Почему-то OrdinalEncoder изменила данные по остальным признакам. Попробуем выделить столбец данных из основного датафрейма, закодировать его и добавить к основному датафрейму"
   ]
  },
  {
   "cell_type": "code",
   "execution_count": 34,
   "id": "146c406d",
   "metadata": {},
   "outputs": [
    {
     "data": {
      "text/html": [
       "<div>\n",
       "<style scoped>\n",
       "    .dataframe tbody tr th:only-of-type {\n",
       "        vertical-align: middle;\n",
       "    }\n",
       "\n",
       "    .dataframe tbody tr th {\n",
       "        vertical-align: top;\n",
       "    }\n",
       "\n",
       "    .dataframe thead th {\n",
       "        text-align: right;\n",
       "    }\n",
       "</style>\n",
       "<table border=\"1\" class=\"dataframe\">\n",
       "  <thead>\n",
       "    <tr style=\"text-align: right;\">\n",
       "      <th></th>\n",
       "      <th>machine_type</th>\n",
       "      <th>temperature_group</th>\n",
       "      <th>vibration_group</th>\n",
       "      <th>power_usage_group</th>\n",
       "      <th>humidity_group</th>\n",
       "    </tr>\n",
       "  </thead>\n",
       "  <tbody>\n",
       "    <tr>\n",
       "      <th>0</th>\n",
       "      <td>Mill</td>\n",
       "      <td>2</td>\n",
       "      <td>3</td>\n",
       "      <td>1</td>\n",
       "      <td>1</td>\n",
       "    </tr>\n",
       "    <tr>\n",
       "      <th>1</th>\n",
       "      <td>Lathe</td>\n",
       "      <td>2</td>\n",
       "      <td>3</td>\n",
       "      <td>2</td>\n",
       "      <td>1</td>\n",
       "    </tr>\n",
       "    <tr>\n",
       "      <th>2</th>\n",
       "      <td>Drill</td>\n",
       "      <td>3</td>\n",
       "      <td>2</td>\n",
       "      <td>1</td>\n",
       "      <td>2</td>\n",
       "    </tr>\n",
       "    <tr>\n",
       "      <th>3</th>\n",
       "      <td>Lathe</td>\n",
       "      <td>3</td>\n",
       "      <td>2</td>\n",
       "      <td>2</td>\n",
       "      <td>3</td>\n",
       "    </tr>\n",
       "    <tr>\n",
       "      <th>4</th>\n",
       "      <td>Drill</td>\n",
       "      <td>2</td>\n",
       "      <td>3</td>\n",
       "      <td>1</td>\n",
       "      <td>2</td>\n",
       "    </tr>\n",
       "    <tr>\n",
       "      <th>5</th>\n",
       "      <td>Drill</td>\n",
       "      <td>2</td>\n",
       "      <td>2</td>\n",
       "      <td>2</td>\n",
       "      <td>1</td>\n",
       "    </tr>\n",
       "    <tr>\n",
       "      <th>6</th>\n",
       "      <td>Lathe</td>\n",
       "      <td>3</td>\n",
       "      <td>3</td>\n",
       "      <td>2</td>\n",
       "      <td>2</td>\n",
       "    </tr>\n",
       "    <tr>\n",
       "      <th>7</th>\n",
       "      <td>Mill</td>\n",
       "      <td>3</td>\n",
       "      <td>3</td>\n",
       "      <td>1</td>\n",
       "      <td>1</td>\n",
       "    </tr>\n",
       "    <tr>\n",
       "      <th>8</th>\n",
       "      <td>Drill</td>\n",
       "      <td>2</td>\n",
       "      <td>3</td>\n",
       "      <td>2</td>\n",
       "      <td>3</td>\n",
       "    </tr>\n",
       "    <tr>\n",
       "      <th>9</th>\n",
       "      <td>Mill</td>\n",
       "      <td>2</td>\n",
       "      <td>2</td>\n",
       "      <td>3</td>\n",
       "      <td>2</td>\n",
       "    </tr>\n",
       "  </tbody>\n",
       "</table>\n",
       "</div>"
      ],
      "text/plain": [
       "  machine_type temperature_group vibration_group power_usage_group  \\\n",
       "0         Mill                 2               3                 1   \n",
       "1        Lathe                 2               3                 2   \n",
       "2        Drill                 3               2                 1   \n",
       "3        Lathe                 3               2                 2   \n",
       "4        Drill                 2               3                 1   \n",
       "5        Drill                 2               2                 2   \n",
       "6        Lathe                 3               3                 2   \n",
       "7         Mill                 3               3                 1   \n",
       "8        Drill                 2               3                 2   \n",
       "9         Mill                 2               2                 3   \n",
       "\n",
       "  humidity_group  \n",
       "0              1  \n",
       "1              1  \n",
       "2              2  \n",
       "3              3  \n",
       "4              2  \n",
       "5              1  \n",
       "6              2  \n",
       "7              1  \n",
       "8              3  \n",
       "9              2  "
      ]
     },
     "execution_count": 34,
     "metadata": {},
     "output_type": "execute_result"
    }
   ],
   "source": [
    "obj_df = df.select_dtypes(include=['object']).copy()\n",
    "obj_df.head(10)"
   ]
  },
  {
   "cell_type": "code",
   "execution_count": 35,
   "id": "c8c07eeb",
   "metadata": {},
   "outputs": [
    {
     "data": {
      "text/html": [
       "<div>\n",
       "<style scoped>\n",
       "    .dataframe tbody tr th:only-of-type {\n",
       "        vertical-align: middle;\n",
       "    }\n",
       "\n",
       "    .dataframe tbody tr th {\n",
       "        vertical-align: top;\n",
       "    }\n",
       "\n",
       "    .dataframe thead th {\n",
       "        text-align: right;\n",
       "    }\n",
       "</style>\n",
       "<table border=\"1\" class=\"dataframe\">\n",
       "  <thead>\n",
       "    <tr style=\"text-align: right;\">\n",
       "      <th></th>\n",
       "      <th>machine_type</th>\n",
       "      <th>temperature_group</th>\n",
       "      <th>vibration_group</th>\n",
       "      <th>power_usage_group</th>\n",
       "      <th>humidity_group</th>\n",
       "    </tr>\n",
       "  </thead>\n",
       "  <tbody>\n",
       "    <tr>\n",
       "      <th>0</th>\n",
       "      <td>2.0</td>\n",
       "      <td>1.0</td>\n",
       "      <td>2.0</td>\n",
       "      <td>0.0</td>\n",
       "      <td>0.0</td>\n",
       "    </tr>\n",
       "    <tr>\n",
       "      <th>1</th>\n",
       "      <td>1.0</td>\n",
       "      <td>1.0</td>\n",
       "      <td>2.0</td>\n",
       "      <td>1.0</td>\n",
       "      <td>0.0</td>\n",
       "    </tr>\n",
       "    <tr>\n",
       "      <th>2</th>\n",
       "      <td>0.0</td>\n",
       "      <td>2.0</td>\n",
       "      <td>1.0</td>\n",
       "      <td>0.0</td>\n",
       "      <td>1.0</td>\n",
       "    </tr>\n",
       "    <tr>\n",
       "      <th>3</th>\n",
       "      <td>1.0</td>\n",
       "      <td>2.0</td>\n",
       "      <td>1.0</td>\n",
       "      <td>1.0</td>\n",
       "      <td>2.0</td>\n",
       "    </tr>\n",
       "    <tr>\n",
       "      <th>4</th>\n",
       "      <td>0.0</td>\n",
       "      <td>1.0</td>\n",
       "      <td>2.0</td>\n",
       "      <td>0.0</td>\n",
       "      <td>1.0</td>\n",
       "    </tr>\n",
       "    <tr>\n",
       "      <th>5</th>\n",
       "      <td>0.0</td>\n",
       "      <td>1.0</td>\n",
       "      <td>1.0</td>\n",
       "      <td>1.0</td>\n",
       "      <td>0.0</td>\n",
       "    </tr>\n",
       "    <tr>\n",
       "      <th>6</th>\n",
       "      <td>1.0</td>\n",
       "      <td>2.0</td>\n",
       "      <td>2.0</td>\n",
       "      <td>1.0</td>\n",
       "      <td>1.0</td>\n",
       "    </tr>\n",
       "    <tr>\n",
       "      <th>7</th>\n",
       "      <td>2.0</td>\n",
       "      <td>2.0</td>\n",
       "      <td>2.0</td>\n",
       "      <td>0.0</td>\n",
       "      <td>0.0</td>\n",
       "    </tr>\n",
       "    <tr>\n",
       "      <th>8</th>\n",
       "      <td>0.0</td>\n",
       "      <td>1.0</td>\n",
       "      <td>2.0</td>\n",
       "      <td>1.0</td>\n",
       "      <td>2.0</td>\n",
       "    </tr>\n",
       "    <tr>\n",
       "      <th>9</th>\n",
       "      <td>2.0</td>\n",
       "      <td>1.0</td>\n",
       "      <td>1.0</td>\n",
       "      <td>2.0</td>\n",
       "      <td>1.0</td>\n",
       "    </tr>\n",
       "  </tbody>\n",
       "</table>\n",
       "</div>"
      ],
      "text/plain": [
       "   machine_type  temperature_group  vibration_group  power_usage_group  \\\n",
       "0           2.0                1.0              2.0                0.0   \n",
       "1           1.0                1.0              2.0                1.0   \n",
       "2           0.0                2.0              1.0                0.0   \n",
       "3           1.0                2.0              1.0                1.0   \n",
       "4           0.0                1.0              2.0                0.0   \n",
       "5           0.0                1.0              1.0                1.0   \n",
       "6           1.0                2.0              2.0                1.0   \n",
       "7           2.0                2.0              2.0                0.0   \n",
       "8           0.0                1.0              2.0                1.0   \n",
       "9           2.0                1.0              1.0                2.0   \n",
       "\n",
       "   humidity_group  \n",
       "0             0.0  \n",
       "1             0.0  \n",
       "2             1.0  \n",
       "3             2.0  \n",
       "4             1.0  \n",
       "5             0.0  \n",
       "6             1.0  \n",
       "7             0.0  \n",
       "8             2.0  \n",
       "9             1.0  "
      ]
     },
     "execution_count": 35,
     "metadata": {},
     "output_type": "execute_result"
    }
   ],
   "source": [
    "encoder = OrdinalEncoder() \n",
    "encoder.fit(obj_df) \n",
    "df_ord = pd.DataFrame(encoder.fit_transform(obj_df), \n",
    "                                                      columns=obj_df.columns)\n",
    "df_ord.head(10)"
   ]
  },
  {
   "cell_type": "markdown",
   "id": "06d7539b",
   "metadata": {},
   "source": [
    "Объеденим данные"
   ]
  },
  {
   "cell_type": "code",
   "execution_count": 36,
   "id": "13c1427c",
   "metadata": {
    "scrolled": false
   },
   "outputs": [
    {
     "data": {
      "text/html": [
       "<div>\n",
       "<style scoped>\n",
       "    .dataframe tbody tr th:only-of-type {\n",
       "        vertical-align: middle;\n",
       "    }\n",
       "\n",
       "    .dataframe tbody tr th {\n",
       "        vertical-align: top;\n",
       "    }\n",
       "\n",
       "    .dataframe thead th {\n",
       "        text-align: right;\n",
       "    }\n",
       "</style>\n",
       "<table border=\"1\" class=\"dataframe\">\n",
       "  <thead>\n",
       "    <tr style=\"text-align: right;\">\n",
       "      <th></th>\n",
       "      <th>temperature</th>\n",
       "      <th>vibration</th>\n",
       "      <th>power_usage</th>\n",
       "      <th>humidity</th>\n",
       "      <th>machine_type_left</th>\n",
       "      <th>failure_risk</th>\n",
       "      <th>temperature_group_left</th>\n",
       "      <th>vibration_group_left</th>\n",
       "      <th>power_usage_group_left</th>\n",
       "      <th>humidity_group_left</th>\n",
       "      <th>machine_type_right</th>\n",
       "      <th>temperature_group_right</th>\n",
       "      <th>vibration_group_right</th>\n",
       "      <th>power_usage_group_right</th>\n",
       "      <th>humidity_group_right</th>\n",
       "    </tr>\n",
       "  </thead>\n",
       "  <tbody>\n",
       "    <tr>\n",
       "      <th>0</th>\n",
       "      <td>75.0</td>\n",
       "      <td>57.0</td>\n",
       "      <td>8.6</td>\n",
       "      <td>20.5</td>\n",
       "      <td>Mill</td>\n",
       "      <td>1</td>\n",
       "      <td>2</td>\n",
       "      <td>3</td>\n",
       "      <td>1</td>\n",
       "      <td>1</td>\n",
       "      <td>2.0</td>\n",
       "      <td>1.0</td>\n",
       "      <td>2.0</td>\n",
       "      <td>0.0</td>\n",
       "      <td>0.0</td>\n",
       "    </tr>\n",
       "    <tr>\n",
       "      <th>1</th>\n",
       "      <td>68.6</td>\n",
       "      <td>54.6</td>\n",
       "      <td>9.7</td>\n",
       "      <td>25.7</td>\n",
       "      <td>Lathe</td>\n",
       "      <td>0</td>\n",
       "      <td>2</td>\n",
       "      <td>3</td>\n",
       "      <td>2</td>\n",
       "      <td>1</td>\n",
       "      <td>1.0</td>\n",
       "      <td>1.0</td>\n",
       "      <td>2.0</td>\n",
       "      <td>1.0</td>\n",
       "      <td>0.0</td>\n",
       "    </tr>\n",
       "    <tr>\n",
       "      <th>2</th>\n",
       "      <td>76.5</td>\n",
       "      <td>50.3</td>\n",
       "      <td>8.4</td>\n",
       "      <td>27.9</td>\n",
       "      <td>Drill</td>\n",
       "      <td>1</td>\n",
       "      <td>3</td>\n",
       "      <td>2</td>\n",
       "      <td>1</td>\n",
       "      <td>2</td>\n",
       "      <td>0.0</td>\n",
       "      <td>2.0</td>\n",
       "      <td>1.0</td>\n",
       "      <td>0.0</td>\n",
       "      <td>1.0</td>\n",
       "    </tr>\n",
       "    <tr>\n",
       "      <th>3</th>\n",
       "      <td>85.2</td>\n",
       "      <td>46.8</td>\n",
       "      <td>9.4</td>\n",
       "      <td>39.4</td>\n",
       "      <td>Lathe</td>\n",
       "      <td>1</td>\n",
       "      <td>3</td>\n",
       "      <td>2</td>\n",
       "      <td>2</td>\n",
       "      <td>3</td>\n",
       "      <td>1.0</td>\n",
       "      <td>2.0</td>\n",
       "      <td>1.0</td>\n",
       "      <td>1.0</td>\n",
       "      <td>2.0</td>\n",
       "    </tr>\n",
       "    <tr>\n",
       "      <th>4</th>\n",
       "      <td>67.7</td>\n",
       "      <td>53.5</td>\n",
       "      <td>6.2</td>\n",
       "      <td>32.8</td>\n",
       "      <td>Drill</td>\n",
       "      <td>1</td>\n",
       "      <td>2</td>\n",
       "      <td>3</td>\n",
       "      <td>1</td>\n",
       "      <td>2</td>\n",
       "      <td>0.0</td>\n",
       "      <td>1.0</td>\n",
       "      <td>2.0</td>\n",
       "      <td>0.0</td>\n",
       "      <td>1.0</td>\n",
       "    </tr>\n",
       "  </tbody>\n",
       "</table>\n",
       "</div>"
      ],
      "text/plain": [
       "   temperature  vibration  power_usage  humidity machine_type_left  \\\n",
       "0         75.0       57.0          8.6      20.5              Mill   \n",
       "1         68.6       54.6          9.7      25.7             Lathe   \n",
       "2         76.5       50.3          8.4      27.9             Drill   \n",
       "3         85.2       46.8          9.4      39.4             Lathe   \n",
       "4         67.7       53.5          6.2      32.8             Drill   \n",
       "\n",
       "   failure_risk temperature_group_left vibration_group_left  \\\n",
       "0             1                      2                    3   \n",
       "1             0                      2                    3   \n",
       "2             1                      3                    2   \n",
       "3             1                      3                    2   \n",
       "4             1                      2                    3   \n",
       "\n",
       "  power_usage_group_left humidity_group_left  machine_type_right  \\\n",
       "0                      1                   1                 2.0   \n",
       "1                      2                   1                 1.0   \n",
       "2                      1                   2                 0.0   \n",
       "3                      2                   3                 1.0   \n",
       "4                      1                   2                 0.0   \n",
       "\n",
       "   temperature_group_right  vibration_group_right  power_usage_group_right  \\\n",
       "0                      1.0                    2.0                      0.0   \n",
       "1                      1.0                    2.0                      1.0   \n",
       "2                      2.0                    1.0                      0.0   \n",
       "3                      2.0                    1.0                      1.0   \n",
       "4                      1.0                    2.0                      0.0   \n",
       "\n",
       "   humidity_group_right  \n",
       "0                   0.0  \n",
       "1                   0.0  \n",
       "2                   1.0  \n",
       "3                   2.0  \n",
       "4                   1.0  "
      ]
     },
     "execution_count": 36,
     "metadata": {},
     "output_type": "execute_result"
    }
   ],
   "source": [
    "df_join=df.join(df_ord,lsuffix='_left', rsuffix='_right')\n",
    "df_join.head()"
   ]
  },
  {
   "cell_type": "code",
   "execution_count": 37,
   "id": "15d3cd21",
   "metadata": {},
   "outputs": [],
   "source": [
    "#list=df_join.columns\n",
    "#'_left' in list\n"
   ]
  },
  {
   "cell_type": "markdown",
   "id": "f44623b3",
   "metadata": {},
   "source": [
    "Удалим категориальный столбец с названиями станков"
   ]
  },
  {
   "cell_type": "code",
   "execution_count": 38,
   "id": "48bae6aa",
   "metadata": {},
   "outputs": [
    {
     "data": {
      "text/html": [
       "<div>\n",
       "<style scoped>\n",
       "    .dataframe tbody tr th:only-of-type {\n",
       "        vertical-align: middle;\n",
       "    }\n",
       "\n",
       "    .dataframe tbody tr th {\n",
       "        vertical-align: top;\n",
       "    }\n",
       "\n",
       "    .dataframe thead th {\n",
       "        text-align: right;\n",
       "    }\n",
       "</style>\n",
       "<table border=\"1\" class=\"dataframe\">\n",
       "  <thead>\n",
       "    <tr style=\"text-align: right;\">\n",
       "      <th></th>\n",
       "      <th>temperature</th>\n",
       "      <th>vibration</th>\n",
       "      <th>power_usage</th>\n",
       "      <th>humidity</th>\n",
       "      <th>failure_risk</th>\n",
       "      <th>machine_type_right</th>\n",
       "      <th>temperature_group_right</th>\n",
       "      <th>vibration_group_right</th>\n",
       "      <th>power_usage_group_right</th>\n",
       "      <th>humidity_group_right</th>\n",
       "    </tr>\n",
       "  </thead>\n",
       "  <tbody>\n",
       "    <tr>\n",
       "      <th>0</th>\n",
       "      <td>75.0</td>\n",
       "      <td>57.0</td>\n",
       "      <td>8.6</td>\n",
       "      <td>20.5</td>\n",
       "      <td>1</td>\n",
       "      <td>2.0</td>\n",
       "      <td>1.0</td>\n",
       "      <td>2.0</td>\n",
       "      <td>0.0</td>\n",
       "      <td>0.0</td>\n",
       "    </tr>\n",
       "    <tr>\n",
       "      <th>1</th>\n",
       "      <td>68.6</td>\n",
       "      <td>54.6</td>\n",
       "      <td>9.7</td>\n",
       "      <td>25.7</td>\n",
       "      <td>0</td>\n",
       "      <td>1.0</td>\n",
       "      <td>1.0</td>\n",
       "      <td>2.0</td>\n",
       "      <td>1.0</td>\n",
       "      <td>0.0</td>\n",
       "    </tr>\n",
       "    <tr>\n",
       "      <th>2</th>\n",
       "      <td>76.5</td>\n",
       "      <td>50.3</td>\n",
       "      <td>8.4</td>\n",
       "      <td>27.9</td>\n",
       "      <td>1</td>\n",
       "      <td>0.0</td>\n",
       "      <td>2.0</td>\n",
       "      <td>1.0</td>\n",
       "      <td>0.0</td>\n",
       "      <td>1.0</td>\n",
       "    </tr>\n",
       "    <tr>\n",
       "      <th>3</th>\n",
       "      <td>85.2</td>\n",
       "      <td>46.8</td>\n",
       "      <td>9.4</td>\n",
       "      <td>39.4</td>\n",
       "      <td>1</td>\n",
       "      <td>1.0</td>\n",
       "      <td>2.0</td>\n",
       "      <td>1.0</td>\n",
       "      <td>1.0</td>\n",
       "      <td>2.0</td>\n",
       "    </tr>\n",
       "    <tr>\n",
       "      <th>4</th>\n",
       "      <td>67.7</td>\n",
       "      <td>53.5</td>\n",
       "      <td>6.2</td>\n",
       "      <td>32.8</td>\n",
       "      <td>1</td>\n",
       "      <td>0.0</td>\n",
       "      <td>1.0</td>\n",
       "      <td>2.0</td>\n",
       "      <td>0.0</td>\n",
       "      <td>1.0</td>\n",
       "    </tr>\n",
       "  </tbody>\n",
       "</table>\n",
       "</div>"
      ],
      "text/plain": [
       "   temperature  vibration  power_usage  humidity  failure_risk  \\\n",
       "0         75.0       57.0          8.6      20.5             1   \n",
       "1         68.6       54.6          9.7      25.7             0   \n",
       "2         76.5       50.3          8.4      27.9             1   \n",
       "3         85.2       46.8          9.4      39.4             1   \n",
       "4         67.7       53.5          6.2      32.8             1   \n",
       "\n",
       "   machine_type_right  temperature_group_right  vibration_group_right  \\\n",
       "0                 2.0                      1.0                    2.0   \n",
       "1                 1.0                      1.0                    2.0   \n",
       "2                 0.0                      2.0                    1.0   \n",
       "3                 1.0                      2.0                    1.0   \n",
       "4                 0.0                      1.0                    2.0   \n",
       "\n",
       "   power_usage_group_right  humidity_group_right  \n",
       "0                      0.0                   0.0  \n",
       "1                      1.0                   0.0  \n",
       "2                      0.0                   1.0  \n",
       "3                      1.0                   2.0  \n",
       "4                      0.0                   1.0  "
      ]
     },
     "execution_count": 38,
     "metadata": {},
     "output_type": "execute_result"
    }
   ],
   "source": [
    "df_result = df_join.drop(['machine_type_left','temperature_group_left','vibration_group_left','power_usage_group_left','humidity_group_left'], axis=1)\n",
    "df_result.head()"
   ]
  },
  {
   "cell_type": "markdown",
   "id": "032c2ea2",
   "metadata": {},
   "source": [
    "#### Вывод"
   ]
  },
  {
   "cell_type": "markdown",
   "id": "0b3f925c",
   "metadata": {},
   "source": [
    "Данные подготовлены к обучению моделей: категориальные признаки приведены к числовым значениям, избыточная точность данных округлена до десятых значений."
   ]
  },
  {
   "cell_type": "markdown",
   "id": "e230f526",
   "metadata": {},
   "source": [
    "## 3. Найдем bazis line"
   ]
  },
  {
   "cell_type": "markdown",
   "id": "77f8fc91",
   "metadata": {},
   "source": [
    "Так как какой-то определенной зависимости нет, но распределение целевого признака смещено в сторону безаварийноной работы примем, что модель посчитала все случаи без аварийными"
   ]
  },
  {
   "cell_type": "code",
   "execution_count": 39,
   "id": "519434a7",
   "metadata": {},
   "outputs": [
    {
     "data": {
      "text/plain": [
       "temperature                0.7\n",
       "vibration                  0.7\n",
       "power_usage                0.7\n",
       "humidity                   0.7\n",
       "failure_risk               0.7\n",
       "machine_type_right         0.7\n",
       "temperature_group_right    0.7\n",
       "vibration_group_right      0.7\n",
       "power_usage_group_right    0.7\n",
       "humidity_group_right       0.7\n",
       "dtype: float64"
      ]
     },
     "execution_count": 39,
     "metadata": {},
     "output_type": "execute_result"
    }
   ],
   "source": [
    "df_result[df_result['failure_risk']==0].count()/df_result.count()"
   ]
  },
  {
   "cell_type": "markdown",
   "id": "444ef472",
   "metadata": {},
   "source": [
    "Значит bazis line для наших моделей accuracy = 0.7 "
   ]
  },
  {
   "cell_type": "markdown",
   "id": "99c0e2c6",
   "metadata": {},
   "source": [
    "## 4. Разбиваем данные "
   ]
  },
  {
   "cell_type": "markdown",
   "id": "951d3e46",
   "metadata": {},
   "source": [
    "Так как у нас нет тестового набора данных для проверки, разобъем на обучающую, валидационную и тестовую выборки. \n",
    "Масштабируем признаки для корректного обучения. \n",
    "Сначала обучим модели без учета дисбаланса классов"
   ]
  },
  {
   "cell_type": "code",
   "execution_count": 40,
   "id": "318d1c74",
   "metadata": {},
   "outputs": [],
   "source": [
    "target = df_result['failure_risk']\n",
    "features = df_result.drop(['failure_risk','temperature','vibration','power_usage','humidity'], axis=1)\n",
    "\n",
    "features_train, features_valid, target_train, target_valid = train_test_split(\n",
    "    features, target, test_size=0.40, random_state=112)\n",
    "\n",
    "features_test, features_valid, target_test, target_valid = train_test_split(\n",
    "    features_valid, target_valid, test_size=0.50, random_state=112)\n",
    "numeric = df_result.select_dtypes(include=['float']).columns\n",
    "numeric=numeric.drop(['temperature','vibration','power_usage','humidity'])\n",
    "\n",
    "scaler = StandardScaler()\n",
    "features_train_scaled = features_train.copy()\n",
    "features_valid_scaled = features_valid.copy()\n",
    "features_test_scaled = features_test.copy()\n",
    "\n",
    "scaler.fit(features_train[numeric])\n",
    "features_train_scaled[numeric] = scaler.transform(features_train[numeric])\n",
    "features_valid_scaled[numeric] = scaler.transform(features_valid[numeric])\n",
    "features_test_scaled[numeric] = scaler.transform(features_test[numeric])"
   ]
  },
  {
   "cell_type": "code",
   "execution_count": 41,
   "id": "10c58459",
   "metadata": {
    "scrolled": false
   },
   "outputs": [
    {
     "name": "stdout",
     "output_type": "stream",
     "text": [
      "(600, 5) (200, 5) (200, 5)\n"
     ]
    }
   ],
   "source": [
    "print(features_train_scaled.shape,features_valid_scaled.shape,features_test_scaled.shape)"
   ]
  },
  {
   "cell_type": "code",
   "execution_count": 42,
   "id": "88607010",
   "metadata": {},
   "outputs": [
    {
     "data": {
      "text/html": [
       "<div>\n",
       "<style scoped>\n",
       "    .dataframe tbody tr th:only-of-type {\n",
       "        vertical-align: middle;\n",
       "    }\n",
       "\n",
       "    .dataframe tbody tr th {\n",
       "        vertical-align: top;\n",
       "    }\n",
       "\n",
       "    .dataframe thead th {\n",
       "        text-align: right;\n",
       "    }\n",
       "</style>\n",
       "<table border=\"1\" class=\"dataframe\">\n",
       "  <thead>\n",
       "    <tr style=\"text-align: right;\">\n",
       "      <th></th>\n",
       "      <th>machine_type_right</th>\n",
       "      <th>temperature_group_right</th>\n",
       "      <th>vibration_group_right</th>\n",
       "      <th>power_usage_group_right</th>\n",
       "      <th>humidity_group_right</th>\n",
       "    </tr>\n",
       "  </thead>\n",
       "  <tbody>\n",
       "    <tr>\n",
       "      <th>249</th>\n",
       "      <td>0.018490</td>\n",
       "      <td>-0.034199</td>\n",
       "      <td>-1.541955</td>\n",
       "      <td>1.488267</td>\n",
       "      <td>-1.425197</td>\n",
       "    </tr>\n",
       "    <tr>\n",
       "      <th>299</th>\n",
       "      <td>0.018490</td>\n",
       "      <td>1.333772</td>\n",
       "      <td>-0.107578</td>\n",
       "      <td>-1.364641</td>\n",
       "      <td>1.337705</td>\n",
       "    </tr>\n",
       "    <tr>\n",
       "      <th>435</th>\n",
       "      <td>0.018490</td>\n",
       "      <td>-0.034199</td>\n",
       "      <td>-0.107578</td>\n",
       "      <td>0.061813</td>\n",
       "      <td>1.337705</td>\n",
       "    </tr>\n",
       "    <tr>\n",
       "      <th>572</th>\n",
       "      <td>-1.214192</td>\n",
       "      <td>-0.034199</td>\n",
       "      <td>-0.107578</td>\n",
       "      <td>0.061813</td>\n",
       "      <td>-0.043746</td>\n",
       "    </tr>\n",
       "    <tr>\n",
       "      <th>472</th>\n",
       "      <td>1.251173</td>\n",
       "      <td>-1.402170</td>\n",
       "      <td>-0.107578</td>\n",
       "      <td>-1.364641</td>\n",
       "      <td>-0.043746</td>\n",
       "    </tr>\n",
       "    <tr>\n",
       "      <th>...</th>\n",
       "      <td>...</td>\n",
       "      <td>...</td>\n",
       "      <td>...</td>\n",
       "      <td>...</td>\n",
       "      <td>...</td>\n",
       "    </tr>\n",
       "    <tr>\n",
       "      <th>379</th>\n",
       "      <td>-1.214192</td>\n",
       "      <td>-1.402170</td>\n",
       "      <td>1.326799</td>\n",
       "      <td>0.061813</td>\n",
       "      <td>-0.043746</td>\n",
       "    </tr>\n",
       "    <tr>\n",
       "      <th>450</th>\n",
       "      <td>1.251173</td>\n",
       "      <td>-0.034199</td>\n",
       "      <td>-0.107578</td>\n",
       "      <td>-1.364641</td>\n",
       "      <td>-0.043746</td>\n",
       "    </tr>\n",
       "    <tr>\n",
       "      <th>282</th>\n",
       "      <td>-1.214192</td>\n",
       "      <td>1.333772</td>\n",
       "      <td>1.326799</td>\n",
       "      <td>1.488267</td>\n",
       "      <td>-1.425197</td>\n",
       "    </tr>\n",
       "    <tr>\n",
       "      <th>479</th>\n",
       "      <td>0.018490</td>\n",
       "      <td>1.333772</td>\n",
       "      <td>-0.107578</td>\n",
       "      <td>1.488267</td>\n",
       "      <td>1.337705</td>\n",
       "    </tr>\n",
       "    <tr>\n",
       "      <th>624</th>\n",
       "      <td>1.251173</td>\n",
       "      <td>1.333772</td>\n",
       "      <td>1.326799</td>\n",
       "      <td>0.061813</td>\n",
       "      <td>1.337705</td>\n",
       "    </tr>\n",
       "  </tbody>\n",
       "</table>\n",
       "<p>200 rows × 5 columns</p>\n",
       "</div>"
      ],
      "text/plain": [
       "     machine_type_right  temperature_group_right  vibration_group_right  \\\n",
       "249            0.018490                -0.034199              -1.541955   \n",
       "299            0.018490                 1.333772              -0.107578   \n",
       "435            0.018490                -0.034199              -0.107578   \n",
       "572           -1.214192                -0.034199              -0.107578   \n",
       "472            1.251173                -1.402170              -0.107578   \n",
       "..                  ...                      ...                    ...   \n",
       "379           -1.214192                -1.402170               1.326799   \n",
       "450            1.251173                -0.034199              -0.107578   \n",
       "282           -1.214192                 1.333772               1.326799   \n",
       "479            0.018490                 1.333772              -0.107578   \n",
       "624            1.251173                 1.333772               1.326799   \n",
       "\n",
       "     power_usage_group_right  humidity_group_right  \n",
       "249                 1.488267             -1.425197  \n",
       "299                -1.364641              1.337705  \n",
       "435                 0.061813              1.337705  \n",
       "572                 0.061813             -0.043746  \n",
       "472                -1.364641             -0.043746  \n",
       "..                       ...                   ...  \n",
       "379                 0.061813             -0.043746  \n",
       "450                -1.364641             -0.043746  \n",
       "282                 1.488267             -1.425197  \n",
       "479                 1.488267              1.337705  \n",
       "624                 0.061813              1.337705  \n",
       "\n",
       "[200 rows x 5 columns]"
      ]
     },
     "execution_count": 42,
     "metadata": {},
     "output_type": "execute_result"
    }
   ],
   "source": [
    "features_valid_scaled"
   ]
  },
  {
   "cell_type": "markdown",
   "id": "1069bd35",
   "metadata": {},
   "source": [
    "## 5. Обучение моделей "
   ]
  },
  {
   "cell_type": "markdown",
   "id": "bf08bd8e",
   "metadata": {},
   "source": [
    "Наша задача является бинарной классификацией. Так как признак несбалансирован будем использовать f-1 меру для оценки. \n"
   ]
  },
  {
   "cell_type": "markdown",
   "id": "1b8f368f",
   "metadata": {},
   "source": [
    "### 5.1 Дерево решений"
   ]
  },
  {
   "cell_type": "code",
   "execution_count": null,
   "id": "3392dc8f",
   "metadata": {},
   "outputs": [],
   "source": [
    "best_model_tree = None\n",
    "best_result_tree = 0\n",
    "best_depth_tree = 0\n",
    "tree_accuracy = 0\n",
    "tree_recall = 0\n",
    "for depth in range(1, 10):\n",
    "    model_tree = DecisionTreeClassifier(random_state=112, max_depth=depth) \n",
    "    model_tree.fit(features_train_scaled,target_train) \n",
    "    predictions_tree = model_tree.predict(features_valid_scaled) \n",
    "    result_tree = f1_score(target_valid, predictions_tree)\n",
    "    accuracy = accuracy_score(target_valid,predictions_tree)\n",
    "    if result_tree > best_result_tree:         \n",
    "        best_result_tree = result_tree\n",
    "        best_depth_tree = depth\n",
    "        tree_accuracy = accuracy\n",
    "print(\"F-1 наилучшей модели с глубиной дерева\",best_depth_tree,':', best_result_tree,\"качество модели\",tree_accuracy)"
   ]
  },
  {
   "cell_type": "markdown",
   "id": "73c2a8f9",
   "metadata": {},
   "source": [
    "Дерево решений в таком виде никуда не годится, оно даже не выходит за рамки простейшей модели ( 0,7)"
   ]
  },
  {
   "cell_type": "markdown",
   "id": "3cbaa24e",
   "metadata": {},
   "source": [
    "### 5.2 Случайный Лес"
   ]
  },
  {
   "cell_type": "code",
   "execution_count": null,
   "id": "acad9d57",
   "metadata": {},
   "outputs": [],
   "source": [
    "best_model_forest = None\n",
    "best_result_forest = 0\n",
    "best_est_forest = 0\n",
    "forest_accuracy = 0\n",
    "for est in range(10, 100, 5):\n",
    "    model_forest = RandomForestClassifier(random_state=112, n_estimators=est) \n",
    "    model_forest.fit(features_train_scaled, target_train) \n",
    "    predictions_forest =  model_forest.predict(features_valid_scaled)\n",
    "    result_forest = f1_score(target_valid, predictions_forest)\n",
    "    accuracy= accuracy_score(target_valid,predictions_forest)\n",
    "    if result_forest > best_result_forest:\n",
    "        best_model_forest = model_forest \n",
    "        best_result_forest = result_forest\n",
    "        best_est_forest = est\n",
    "        forest_accuracy=accuracy\n",
    "\n",
    "print(\"F-1 наилучшей модели случайного леса :\", best_result_forest,'количество деревьев',best_est_forest,'качество модели:',forest_accuracy)"
   ]
  },
  {
   "cell_type": "markdown",
   "id": "0f194804",
   "metadata": {},
   "source": [
    "Случайный лес тоже не удовлетворяет минимальным требованиям точности."
   ]
  },
  {
   "cell_type": "markdown",
   "id": "7ad9fda5",
   "metadata": {},
   "source": [
    "### 5.3 Логистическая регрессия"
   ]
  },
  {
   "cell_type": "code",
   "execution_count": null,
   "id": "14b3ab8c",
   "metadata": {},
   "outputs": [],
   "source": [
    "best_model_log_reg = None\n",
    "best_iters_log_reg = 0\n",
    "best_result_log_reg = 0\n",
    "log_reg_accuracy = 0\n",
    "for iters in range( 100, 1000):\n",
    "    model_log_reg = LogisticRegression(random_state=112, max_iter=iters, class_weight='balanced')\n",
    "    model_log_reg.fit(features_train_scaled, target_train)\n",
    "    predictions_log_reg = model_log_reg.predict(features_valid_scaled)\n",
    "    result_log_reg = f1_score(target_valid, predictions_log_reg)\n",
    "    accuracy = accuracy_score(target_valid,predictions_log_reg)\n",
    "    if result_log_reg > best_result_log_reg:\n",
    "        best_model_log_reg = model_log_reg\n",
    "        best_result_log_reg = result_log_reg\n",
    "        best_iters_log_reg = iters\n",
    "        log_reg_accuracy = accuracy\n",
    "\n",
    "print(\"F-1 лучшей модели:\", best_result_log_reg,\"при количестве итераций\", best_iters_log_reg,\"качество модели:\",log_reg_accuracy)"
   ]
  },
  {
   "cell_type": "markdown",
   "id": "2c385a47",
   "metadata": {},
   "source": []
  },
  {
   "cell_type": "markdown",
   "id": "e5acb628",
   "metadata": {},
   "source": [
    "## 6. Улучшим качество моделей"
   ]
  },
  {
   "cell_type": "markdown",
   "id": "539d18a1",
   "metadata": {},
   "source": [
    "Рассмотрим 4 возможных улучшения:\n",
    "\n",
    "Сбалансируем классы\n",
    "Увеличим выборку правильных ответов\n",
    "уменьшим выборку неправильных\n",
    "используем GridSearchCV для подбора наилучших параметров\n",
    "Для всех вариантов найдем F1-меру и построим кривую ROC-AUC и PR-кривую"
   ]
  },
  {
   "cell_type": "markdown",
   "id": "a3783250",
   "metadata": {},
   "source": [
    "### 6.1 Дерево решений"
   ]
  },
  {
   "cell_type": "markdown",
   "id": "b1a64f62",
   "metadata": {},
   "source": [
    "Сбалансируем классы"
   ]
  },
  {
   "cell_type": "code",
   "execution_count": null,
   "id": "eb984734",
   "metadata": {},
   "outputs": [],
   "source": [
    "model_tree = DecisionTreeClassifier(random_state=112)\n",
    "param_grid_tree = { \"criterion\" : [\"gini\", \"entropy\",\"log_loss\"],\n",
    "              \"max_features\" : [\"sqrt\", \"auto\",\"float\"], \"max_depth\" : [5, 30], \"min_samples_split\" : [2, 4],\n",
    "              \"class_weight\":[\"balanced\"]} \n",
    "grid_search_tree = GridSearchCV(model_tree, param_grid_tree,scoring='roc_auc', n_jobs=-1, cv=5)\n",
    "grid_search_tree.fit(features_train_scaled, target_train) "
   ]
  },
  {
   "cell_type": "code",
   "execution_count": null,
   "id": "a6b611cb",
   "metadata": {
    "scrolled": false
   },
   "outputs": [],
   "source": [
    "print(grid_search_tree.best_params_)"
   ]
  },
  {
   "cell_type": "code",
   "execution_count": null,
   "id": "73800f6e",
   "metadata": {
    "scrolled": true
   },
   "outputs": [],
   "source": [
    "print(grid_search_tree.best_score_)"
   ]
  },
  {
   "cell_type": "code",
   "execution_count": null,
   "id": "cf7981dd",
   "metadata": {},
   "outputs": [],
   "source": [
    "probabilities_valid_tree = grid_search_tree.predict_proba(features_valid)\n",
    "probabilities_one_valid_tree = probabilities_valid_tree[:, 1]\n",
    "print(\"ROC кривая модели дерева решений:\", roc_auc_score(target_valid, probabilities_one_valid_tree))\n",
    "fpr, tpr, thresholds = roc_curve(target_valid, probabilities_one_valid_tree)\n",
    "plt.figure()\n",
    "plt.plot(fpr, tpr)\n",
    "plt.plot([0, 1], [0, 1], linestyle='--')\n",
    "plt.xlim([0.0, 1.0])\n",
    "plt.ylim([0.0, 1.0])\n",
    "plt.xlabel(\"False Positive Rate\")\n",
    "plt.ylabel(\"True Positive Rate\")\n",
    "plt.title(\"ROC-кривая\")\n",
    "plt.show()"
   ]
  },
  {
   "cell_type": "markdown",
   "id": "8089107f",
   "metadata": {},
   "source": [
    "Увеличим долю правильных ответов"
   ]
  },
  {
   "cell_type": "code",
   "execution_count": null,
   "id": "2be675df",
   "metadata": {},
   "outputs": [],
   "source": [
    "def upsample(features, target, repeat):\n",
    "    features_zeros = features[target == 0]\n",
    "    features_ones = features[target == 1]\n",
    "    target_zeros = target[target == 0]\n",
    "    target_ones = target[target == 1]\n",
    "\n",
    "    features_upsampled = pd.concat([features_zeros] + [features_ones] * repeat)\n",
    "    target_upsampled = pd.concat([target_zeros] + [target_ones] * repeat)\n",
    "    \n",
    "    features_upsampled, target_upsampled = shuffle(\n",
    "        features_upsampled, target_upsampled, random_state=112)\n",
    "    \n",
    "    return features_upsampled, target_upsampled\n",
    "\n",
    "features_upsampled, target_upsampled = upsample(features_train_scaled, target_train, 2)\n",
    "\n"
   ]
  },
  {
   "cell_type": "code",
   "execution_count": null,
   "id": "90a82e64",
   "metadata": {
    "scrolled": true
   },
   "outputs": [],
   "source": [
    "grid_search_tree_upsampled= GridSearchCV(model_tree, param_grid_tree,scoring='roc_auc', n_jobs=-1, cv=5)\n",
    "grid_search_tree_upsampled.fit(features_upsampled, target_upsampled) "
   ]
  },
  {
   "cell_type": "code",
   "execution_count": null,
   "id": "901cea2b",
   "metadata": {
    "scrolled": false
   },
   "outputs": [],
   "source": [
    "print(grid_search_tree_upsampled.best_params_)"
   ]
  },
  {
   "cell_type": "code",
   "execution_count": null,
   "id": "9a1e0a17",
   "metadata": {
    "scrolled": true
   },
   "outputs": [],
   "source": [
    "print(grid_search_tree_upsampled.best_score_)"
   ]
  },
  {
   "cell_type": "code",
   "execution_count": null,
   "id": "5d08e4fa",
   "metadata": {
    "scrolled": true
   },
   "outputs": [],
   "source": [
    "probabilities_valid_tree_upsamled = grid_search_tree_upsampled.predict_proba(features_valid_scaled)\n",
    "probabilities_one_valid_tree_upsampled = probabilities_valid_tree_upsamled[:, 1]\n",
    "print(\"ROC кривая модели дерева решений:\", roc_auc_score(target_valid, probabilities_one_valid_tree_upsampled))\n",
    "fpr, tpr, thresholds = roc_curve(target_valid, probabilities_one_valid_tree_upsampled)\n",
    "plt.figure()\n",
    "plt.plot(fpr, tpr)\n",
    "plt.plot([0, 1], [0, 1], linestyle='--')\n",
    "plt.xlim([0.0, 1.0])\n",
    "plt.ylim([0.0, 1.0])\n",
    "plt.xlabel(\"False Positive Rate\")\n",
    "plt.ylabel(\"True Positive Rate\")\n",
    "plt.title(\"ROC-кривая\")\n",
    "plt.show()"
   ]
  },
  {
   "cell_type": "markdown",
   "id": "4d9b41ca",
   "metadata": {},
   "source": [
    "Данные на обучающей и проверочной выборке не совпадают. Скорее всего модель сильно переобучается."
   ]
  },
  {
   "cell_type": "markdown",
   "id": "ce2b6799",
   "metadata": {},
   "source": [
    "Проверим модель просто перебором деревьев"
   ]
  },
  {
   "cell_type": "code",
   "execution_count": null,
   "id": "b7e1e707",
   "metadata": {},
   "outputs": [],
   "source": [
    "best_model_tree_upsampled = None\n",
    "best_result_tree_upsampled = 0\n",
    "best_depth_tree_upsampled = 0\n",
    "for depth in range(1, 30):\n",
    "    model_tree_upsampled = DecisionTreeClassifier(random_state=112, max_depth=depth) \n",
    "    model_tree_upsampled.fit(features_upsampled, target_upsampled) \n",
    "    predictions_tree_upsampled = model_tree_upsampled.predict(features_valid_scaled) \n",
    "    result_tree_upsampled = f1_score(target_valid, predictions_tree_upsampled) \n",
    "    if result_tree_upsampled > best_result_tree_upsampled:         \n",
    "        best_result_tree_upsampled = result_tree_upsampled\n",
    "        best_depth_tree_upsampled = depth\n",
    "        best_model_tree_upsampled = model_tree_upsampled\n",
    "print(\"F1-мера наилучшая в модели с увеличенной выборкой положительных ответов с количеством деревьев\",best_depth_tree_upsampled,':', best_result_tree_upsampled)"
   ]
  },
  {
   "cell_type": "code",
   "execution_count": null,
   "id": "784f2d4d",
   "metadata": {},
   "outputs": [],
   "source": [
    "probabilities_valid_tree_upsampled = best_model_tree_upsampled.predict_proba(features_valid_scaled)\n",
    "probabilities_one_valid_tree_upsampled = probabilities_valid_tree_upsampled[:, 1]\n",
    "print(\"ROC кривая модели дерева решений:\", roc_auc_score(target_valid, probabilities_one_valid_tree_upsampled))\n",
    "fpr, tpr, thresholds = roc_curve(target_valid, probabilities_one_valid_tree_upsampled)\n",
    "plt.figure()\n",
    "plt.plot(fpr, tpr)\n",
    "plt.plot([0, 1], [0, 1], linestyle='--')\n",
    "plt.xlim([0.0, 1.0])\n",
    "plt.ylim([0.0, 1.0])\n",
    "plt.xlabel(\"False Positive Rate\")\n",
    "plt.ylabel(\"True Positive Rate\")\n",
    "plt.title(\"ROC-кривая\")\n",
    "plt.show()"
   ]
  },
  {
   "cell_type": "markdown",
   "id": "5eaacff8",
   "metadata": {},
   "source": [
    "Стало немногим лучше, но результат не подходит"
   ]
  },
  {
   "cell_type": "markdown",
   "id": "1568db3c",
   "metadata": {},
   "source": [
    "### 6.2 случайный лес"
   ]
  },
  {
   "cell_type": "code",
   "execution_count": null,
   "id": "95c161bb",
   "metadata": {},
   "outputs": [],
   "source": [
    "model_forest = RandomForestClassifier(random_state=112) \n",
    "param_grid_forest = { \"n_estimators\" : [int(x) for x in np.linspace(start = 50, stop = 300, num = 10)], \"criterion\" : [\"gini\", \"entropy\",\"log_loss\"],\n",
    "              \"max_features\" : [\"sqrt\", \"auto\",\"float\"], \"max_depth\" : [5, 20], \"min_samples_split\" : [2, 4] ,\n",
    "              \"bootstrap\": [True, False],\"class_weight\":[\"balanced\", \"balanced_subsample\"]} \n",
    "grid_search_forest = GridSearchCV(model_forest, param_grid_forest,scoring='f1_weighted', n_jobs=-1, cv=5)\n",
    "grid_search_forest.fit(features_train_scaled, target_train) "
   ]
  },
  {
   "cell_type": "code",
   "execution_count": null,
   "id": "45fb76d2",
   "metadata": {
    "scrolled": false
   },
   "outputs": [],
   "source": [
    "print(grid_search_forest.best_params_)"
   ]
  },
  {
   "cell_type": "code",
   "execution_count": null,
   "id": "ae8a1f15",
   "metadata": {
    "scrolled": true
   },
   "outputs": [],
   "source": [
    "print(grid_search_forest.best_score_)"
   ]
  },
  {
   "cell_type": "code",
   "execution_count": null,
   "id": "4724722b",
   "metadata": {},
   "outputs": [],
   "source": [
    "probabilities_valid_forest = grid_search_forest.predict_proba(features_valid_scaled)\n",
    "probabilities_one_valid_forest = probabilities_valid_forest[:, 1]\n",
    "print(\"ROC кривая модели случайного леса:\", roc_auc_score(target_valid, probabilities_one_valid_forest))\n",
    "fpr, tpr, thresholds = roc_curve(target_valid, probabilities_one_valid_forest)\n",
    "plt.figure()\n",
    "plt.plot(fpr, tpr)\n",
    "plt.plot([0, 1], [0, 1], linestyle='--')\n",
    "plt.xlim([0.0, 1.0])\n",
    "plt.ylim([0.0, 1.0])\n",
    "plt.xlabel(\"False Positive Rate\")\n",
    "plt.ylabel(\"True Positive Rate\")\n",
    "plt.title(\"ROC-кривая\")\n",
    "plt.show()"
   ]
  },
  {
   "cell_type": "markdown",
   "id": "e42010c1",
   "metadata": {},
   "source": [
    "Увеличим долю правильных ответов"
   ]
  },
  {
   "cell_type": "code",
   "execution_count": null,
   "id": "cb4dcb7b",
   "metadata": {},
   "outputs": [],
   "source": [
    "grid_search_forest_upsampled = GridSearchCV(model_forest, param_grid_forest,scoring='f1_weighted', n_jobs=-1, cv=5)\n",
    "grid_search_forest_upsampled.fit(features_upsampled, target_upsampled) "
   ]
  },
  {
   "cell_type": "code",
   "execution_count": null,
   "id": "fcae1749",
   "metadata": {
    "scrolled": false
   },
   "outputs": [],
   "source": [
    "print(grid_search_forest_upsampled.best_params_)"
   ]
  },
  {
   "cell_type": "code",
   "execution_count": null,
   "id": "41a29679",
   "metadata": {
    "scrolled": true
   },
   "outputs": [],
   "source": [
    "print(grid_search_forest_upsampled.best_score_)"
   ]
  },
  {
   "cell_type": "code",
   "execution_count": null,
   "id": "54f54a91",
   "metadata": {},
   "outputs": [],
   "source": [
    "probabilities_valid_forest_upsampled = grid_search_forest_upsampled.predict_proba(features_valid_scaled)\n",
    "probabilities_one_valid_forest_upsampled = probabilities_valid_forest_upsampled[:, 1]\n",
    "print(\"ROC кривая модели случайного леса:\", roc_auc_score(target_valid, probabilities_one_valid_forest_upsampled))\n",
    "fpr, tpr, thresholds = roc_curve(target_valid, probabilities_one_valid_forest_upsampled)\n",
    "plt.figure()\n",
    "plt.plot(fpr, tpr)\n",
    "plt.plot([0, 1], [0, 1], linestyle='--')\n",
    "plt.xlim([0.0, 1.0])\n",
    "plt.ylim([0.0, 1.0])\n",
    "plt.xlabel(\"False Positive Rate\")\n",
    "plt.ylabel(\"True Positive Rate\")\n",
    "plt.title(\"ROC-кривая\")\n",
    "plt.show()"
   ]
  },
  {
   "cell_type": "raw",
   "id": "69a35a69",
   "metadata": {},
   "source": [
    "Модель тоже переобучается, попробуем просто перебором перебором количества деревьев"
   ]
  },
  {
   "cell_type": "code",
   "execution_count": null,
   "id": "e8c45614",
   "metadata": {},
   "outputs": [],
   "source": [
    "best_model_forest_upsampled= None\n",
    "best_result_forest_upsampled = 0\n",
    "best_est_forest_upsampled = 0\n",
    "for est in range(10, 100, 5):\n",
    "    model_forest_upsampled = RandomForestClassifier(random_state=112, n_estimators=est) \n",
    "    model_forest_upsampled.fit(features_upsampled,target_upsampled) \n",
    "    predictions_forest_upsampled = model_forest_upsampled.predict(features_valid_scaled)\n",
    "    result_forest_upsampled = f1_score(target_valid, predictions_forest_upsampled) \n",
    "    if result_forest_upsampled > best_result_forest_upsampled:\n",
    "        best_model_forest_upsampled = model_forest_upsampled \n",
    "        best_result_forest_upsampled = result_forest_upsampled\n",
    "        best_model_forest_upsampled = model_forest_upsampled\n",
    "        best_est_forest_upsampled = est\n",
    "       \n",
    "\n",
    "print(\"Наилучшая F1-мера модели на валидационной выборке:\", best_result_forest_upsampled,'при количестве деревьев',best_est_forest_upsampled)"
   ]
  },
  {
   "cell_type": "code",
   "execution_count": null,
   "id": "726e5b2d",
   "metadata": {},
   "outputs": [],
   "source": [
    "probabilities_valid_forest_upsampled = best_model_forest_upsampled.predict_proba(features_valid_scaled)\n",
    "probabilities_one_valid_forest_upsampled = probabilities_valid_forest_upsampled[:, 1]\n",
    "print(\"ROC кривая модели дерева решений:\", roc_auc_score(target_valid, probabilities_one_valid_forest_upsampled))\n",
    "fpr, tpr, thresholds = roc_curve(target_valid, probabilities_one_valid_forest_upsampled)\n",
    "plt.figure()\n",
    "plt.plot(fpr, tpr)\n",
    "plt.plot([0, 1], [0, 1], linestyle='--')\n",
    "plt.xlim([0.0, 1.0])\n",
    "plt.ylim([0.0, 1.0])\n",
    "plt.xlabel(\"False Positive Rate\")\n",
    "plt.ylabel(\"True Positive Rate\")\n",
    "plt.title(\"ROC-кривая\")\n",
    "plt.show()"
   ]
  },
  {
   "cell_type": "markdown",
   "id": "b9ec8880",
   "metadata": {},
   "source": [
    "#### Логистическая регрессия"
   ]
  },
  {
   "cell_type": "code",
   "execution_count": null,
   "id": "e38573a0",
   "metadata": {},
   "outputs": [],
   "source": [
    "model_log_reg = LogisticRegression(random_state=112) \n",
    "param_grid = {  \"solver\" : [\"newton-cg\", \"lbfgs\",\"liblinear\",\"sag\",\"saga\"],\n",
    "              \"C\" : [0.001, 0.01, 0.1, 1, 10, 100, 1000], \"penalty\" : [\"l1\", \"l2\",\"elasticnet\",\"none\"],\n",
    "              \"class_weight\":[\"balanced\"]} \n",
    "grid_search_log_reg = GridSearchCV(model_log_reg, param_grid,scoring='f1_weighted', n_jobs=-1, cv=4)\n",
    "grid_search_log_reg.fit(features_train_scaled, target_train)"
   ]
  },
  {
   "cell_type": "code",
   "execution_count": null,
   "id": "e80a2789",
   "metadata": {},
   "outputs": [],
   "source": [
    "print(grid_search_log_reg.best_score_)"
   ]
  },
  {
   "cell_type": "code",
   "execution_count": null,
   "id": "7dbbc9aa",
   "metadata": {
    "scrolled": true
   },
   "outputs": [],
   "source": [
    "print(grid_search_log_reg.best_params_)"
   ]
  },
  {
   "cell_type": "code",
   "execution_count": null,
   "id": "f32d6150",
   "metadata": {},
   "outputs": [],
   "source": [
    "best_model_log_reg_balance=LogisticRegression(random_state=112)"
   ]
  },
  {
   "cell_type": "code",
   "execution_count": null,
   "id": "ce79530f",
   "metadata": {},
   "outputs": [],
   "source": [
    "probabilities_valid_log_reg_balance = grid_search_log_reg.predict_proba(features_valid_scaled)\n",
    "probabilities_one_valid_log_reg_balance = probabilities_valid_log_reg_balance[:, 1]\n",
    "print(\"ROC кривая модели дерева решений:\", roc_auc_score(target_valid, probabilities_one_valid_log_reg_balance))\n",
    "fpr, tpr, thresholds = roc_curve(target_valid, probabilities_one_valid_log_reg_balance)\n",
    "plt.figure()\n",
    "plt.plot(fpr, tpr)\n",
    "plt.plot([0, 1], [0, 1], linestyle='--')\n",
    "plt.xlim([0.0, 1.0])\n",
    "plt.ylim([0.0, 1.0])\n",
    "plt.xlabel(\"False Positive Rate\")\n",
    "plt.ylabel(\"True Positive Rate\")\n",
    "plt.title(\"ROC-кривая\")\n",
    "plt.show()"
   ]
  },
  {
   "cell_type": "markdown",
   "id": "4dab0ca4",
   "metadata": {},
   "source": [
    "Увеличение выборки правильных ответов"
   ]
  },
  {
   "cell_type": "code",
   "execution_count": null,
   "id": "630b8691",
   "metadata": {},
   "outputs": [],
   "source": [
    "grid_search_log_reg_upsample = GridSearchCV(model_log_reg, param_grid,scoring='f1_weighted', n_jobs=-1, cv=4)\n",
    "grid_search_log_reg_upsample.fit(features_upsampled, target_upsampled)"
   ]
  },
  {
   "cell_type": "code",
   "execution_count": null,
   "id": "4cc3f0d5",
   "metadata": {},
   "outputs": [],
   "source": [
    "print(grid_search_log_reg_upsample.best_score_)"
   ]
  },
  {
   "cell_type": "code",
   "execution_count": null,
   "id": "7dbbc9aa",
   "metadata": {
    "scrolled": true
   },
   "outputs": [],
   "source": [
    "print(grid_search_log_reg_upsample.best_params_)"
   ]
  },
  {
   "cell_type": "code",
   "execution_count": null,
   "id": "ffbdc615",
   "metadata": {},
   "outputs": [],
   "source": [
    "probabilities_valid_log_reg_upsampled = grid_search_log_reg.predict_proba(features_valid_scaled)\n",
    "probabilities_one_valid_log_reg_upsampled = probabilities_valid_log_reg_upsampled[:, 1]\n",
    "print(\"ROC кривая модели дерева решений:\", roc_auc_score(target_valid, probabilities_one_valid_log_reg_upsampled))\n",
    "fpr, tpr, thresholds = roc_curve(target_valid, probabilities_one_valid_log_reg_upsampled)\n",
    "plt.figure()\n",
    "plt.plot(fpr, tpr)\n",
    "plt.plot([0, 1], [0, 1], linestyle='--')\n",
    "plt.xlim([0.0, 1.0])\n",
    "plt.ylim([0.0, 1.0])\n",
    "plt.xlabel(\"False Positive Rate\")\n",
    "plt.ylabel(\"True Positive Rate\")\n",
    "plt.title(\"ROC-кривая\")\n",
    "plt.show()"
   ]
  },
  {
   "cell_type": "markdown",
   "id": "53e88357",
   "metadata": {},
   "source": [
    "### Модели с градиентным бустингом"
   ]
  },
  {
   "cell_type": "markdown",
   "id": "8194d2c5",
   "metadata": {},
   "source": [
    "### Catboost"
   ]
  },
  {
   "cell_type": "code",
   "execution_count": null,
   "id": "7fb28bdc",
   "metadata": {},
   "outputs": [],
   "source": [
    "Список фичей"
   ]
  },
  {
   "cell_type": "code",
   "execution_count": null,
   "id": "9532c06e",
   "metadata": {
    "scrolled": false
   },
   "outputs": [],
   "source": [
    "dt.info()"
   ]
  },
  {
   "cell_type": "markdown",
   "id": "2a3707f0",
   "metadata": {},
   "source": [
    "Все признаки числовые"
   ]
  },
  {
   "cell_type": "code",
   "execution_count": null,
   "id": "443884df",
   "metadata": {},
   "outputs": [],
   "source": [
    "x = dt.drop('Failure_Risk', axis=1)\n",
    "cat_features = ['Machine_Type']\n",
    "y = dt['Failure_Risk']"
   ]
  },
  {
   "cell_type": "markdown",
   "id": "1dc31b49",
   "metadata": {},
   "source": [
    "Используем кросс-валидацию"
   ]
  },
  {
   "cell_type": "code",
   "execution_count": null,
   "id": "6c7c2dce",
   "metadata": {},
   "outputs": [],
   "source": [
    "params = {\n",
    "    'loss_function': 'Logloss',\n",
    "    'iterations': 200,\n",
    "    'custom_loss': 'Accuracy',\n",
    "    'random_seed': 25,\n",
    "    'learning_rate': 0.05\n",
    "}\n",
    "\n",
    "cv_data = cv(\n",
    "    params=params,\n",
    "    pool=Pool(x, label=y, cat_features=cat_features),\n",
    "    fold_count=5, \n",
    "    shuffle=True,\n",
    "    partition_random_seed=0,\n",
    "    plot=True, \n",
    "    stratified=True, \n",
    "    verbose=False\n",
    ")"
   ]
  },
  {
   "cell_type": "markdown",
   "id": "0033a7bc",
   "metadata": {},
   "source": [
    "Лучший показатель точности 0,72"
   ]
  },
  {
   "cell_type": "markdown",
   "id": "3ba45e28",
   "metadata": {},
   "source": [
    "### LightGBM"
   ]
  },
  {
   "cell_type": "code",
   "execution_count": 43,
   "id": "fb488728",
   "metadata": {},
   "outputs": [],
   "source": [
    "\n",
    "parameters = {'n_estimators':[50,100],\n",
    "              'max_depth': [15, 20],\n",
    "              \"num_leaves\": [31, 63, 127],\n",
    "              'learning_rate': [0.01, 0.05,0.1],\n",
    "              \"subsample\": [0.8, 1.0]\n",
    "              }\n",
    "lgbm = lgb.LGBMClassifier(objective=\"binary\", metric=\"auc\", random_state=340)\n",
    "grid = GridSearchCV(lgbm, param_grid=parameters, scoring='accuracy', cv=5)\n",
    "\n"
   ]
  },
  {
   "cell_type": "code",
   "execution_count": 46,
   "id": "9ccb837e",
   "metadata": {},
   "outputs": [
    {
     "name": "stdout",
     "output_type": "stream",
     "text": [
      "Best parameters: {'learning_rate': 0.01, 'max_depth': 15, 'n_estimators': 50, 'num_leaves': 31, 'subsample': 0.8}\n",
      "Best score: 0.6866666666666668\n"
     ]
    }
   ],
   "source": [
    "grid.fit(features_train_scaled, target_train)\n",
    "print(f\"Best parameters: {grid.best_params_}\")\n",
    "print(f\"Best score: {grid.best_score_}\")\n",
    "\n",
    "lgbm_pred = grid.predict(features_test_scaled)"
   ]
  },
  {
   "cell_type": "markdown",
   "id": "d4df46d9",
   "metadata": {},
   "source": [
    "Лучший показатель точности 0,68"
   ]
  },
  {
   "cell_type": "markdown",
   "id": "d8db4c44",
   "metadata": {},
   "source": [
    "## Вывод"
   ]
  },
  {
   "cell_type": "markdown",
   "id": "bb9ea476",
   "metadata": {},
   "source": [
    "Ниодна модель не смогла по точности выйти за bazis line. Скорее всего данные сгенерированы рандомайзером и в них не прослеживаются зависимости."
   ]
  },
  {
   "cell_type": "code",
   "execution_count": null,
   "id": "e3ae9e9d",
   "metadata": {},
   "outputs": [],
   "source": []
  }
 ],
 "metadata": {
  "celltoolbar": "Необработанный формат ячейки",
  "kernelspec": {
   "display_name": "Python 3 (ipykernel)",
   "language": "python",
   "name": "python3"
  },
  "language_info": {
   "codemirror_mode": {
    "name": "ipython",
    "version": 3
   },
   "file_extension": ".py",
   "mimetype": "text/x-python",
   "name": "python",
   "nbconvert_exporter": "python",
   "pygments_lexer": "ipython3",
   "version": "3.9.7"
  }
 },
 "nbformat": 4,
 "nbformat_minor": 5
}
