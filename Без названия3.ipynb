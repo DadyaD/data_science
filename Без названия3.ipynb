{
 "cells": [
  {
   "cell_type": "code",
   "execution_count": 5,
   "id": "bfbf05de",
   "metadata": {},
   "outputs": [],
   "source": [
    "import pandas as pd\n",
    "our_series = pd.Series([2, 11, 12])\n",
    "df = pd.DataFrame({\n",
    "    'a': [4, 36, 14, 11, 3],\n",
    "    'b': [5, 4, 3, 2, 1],\n",
    "    'c': ['X', 'Y', 'Y', 'Y', 'Z']\n",
    "})"
   ]
  },
  {
   "cell_type": "code",
   "execution_count": null,
   "id": "8570f686",
   "metadata": {},
   "outputs": [],
   "source": []
  },
  {
   "cell_type": "code",
   "execution_count": 6,
   "id": "e21965f0",
   "metadata": {},
   "outputs": [
    {
     "name": "stdout",
     "output_type": "stream",
     "text": [
      "Empty DataFrame\n",
      "Columns: [a, b, c]\n",
      "Index: []\n"
     ]
    }
   ],
   "source": [
    "print(df.query('a in @our_series.index'))"
   ]
  },
  {
   "cell_type": "code",
   "execution_count": 7,
   "id": "3e99684d",
   "metadata": {},
   "outputs": [
    {
     "name": "stdout",
     "output_type": "stream",
     "text": [
      "    a  b  c\n",
      "3  11  2  Y\n"
     ]
    }
   ],
   "source": [
    "print(df.query('a in @our_series'))"
   ]
  }
 ],
 "metadata": {
  "kernelspec": {
   "display_name": "base",
   "language": "python",
   "name": "python3"
  },
  "language_info": {
   "codemirror_mode": {
    "name": "ipython",
    "version": 3
   },
   "file_extension": ".py",
   "mimetype": "text/x-python",
   "name": "python",
   "nbconvert_exporter": "python",
   "pygments_lexer": "ipython3",
   "version": "3.9.7"
  }
 },
 "nbformat": 4,
 "nbformat_minor": 5
}
